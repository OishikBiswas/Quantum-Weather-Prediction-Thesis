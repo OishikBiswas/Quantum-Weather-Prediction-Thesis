{
 "cells": [
  {
   "cell_type": "code",
   "execution_count": 1,
   "id": "f3102361-1d03-44cd-be30-a1a5b2d9ce46",
   "metadata": {
    "tags": []
   },
   "outputs": [],
   "source": [
    "import numpy as np\n",
    "import pandas as pd\n",
    "import matplotlib.pyplot as plt\n",
    "import seaborn as sns\n",
    "%matplotlib inline\n",
    "# loading the dataset\n",
    "df = pd.read_csv('Thesis IBM Dataset.csv')"
   ]
  },
  {
   "cell_type": "code",
   "execution_count": 2,
   "id": "4e07ffd2-23f6-4802-9561-47fc078cf766",
   "metadata": {
    "tags": []
   },
   "outputs": [
    {
     "data": {
      "text/html": [
       "<div>\n",
       "<style scoped>\n",
       "    .dataframe tbody tr th:only-of-type {\n",
       "        vertical-align: middle;\n",
       "    }\n",
       "\n",
       "    .dataframe tbody tr th {\n",
       "        vertical-align: top;\n",
       "    }\n",
       "\n",
       "    .dataframe thead th {\n",
       "        text-align: right;\n",
       "    }\n",
       "</style>\n",
       "<table border=\"1\" class=\"dataframe\">\n",
       "  <thead>\n",
       "    <tr style=\"text-align: right;\">\n",
       "      <th></th>\n",
       "      <th>Date</th>\n",
       "      <th>Time</th>\n",
       "      <th>Temperature(C)</th>\n",
       "      <th>Feel likes(C)</th>\n",
       "      <th>Chance of Prec.(%)</th>\n",
       "      <th>Humidity(%)</th>\n",
       "      <th>Visibity(km)</th>\n",
       "      <th>Pressure(hPa)</th>\n",
       "      <th>State</th>\n",
       "      <th>Real State</th>\n",
       "      <th>Rain</th>\n",
       "      <th>Cloudy</th>\n",
       "      <th>Sunny</th>\n",
       "      <th>Fog</th>\n",
       "    </tr>\n",
       "  </thead>\n",
       "  <tbody>\n",
       "    <tr>\n",
       "      <th>0</th>\n",
       "      <td>27-06-2023</td>\n",
       "      <td>08:00</td>\n",
       "      <td>27</td>\n",
       "      <td>32</td>\n",
       "      <td>21</td>\n",
       "      <td>87</td>\n",
       "      <td>3.0</td>\n",
       "      <td>1003</td>\n",
       "      <td>Cloudy</td>\n",
       "      <td>Cloudy</td>\n",
       "      <td>0.0</td>\n",
       "      <td>1</td>\n",
       "      <td>0</td>\n",
       "      <td>0</td>\n",
       "    </tr>\n",
       "    <tr>\n",
       "      <th>1</th>\n",
       "      <td>27-06-2023</td>\n",
       "      <td>09:00</td>\n",
       "      <td>27</td>\n",
       "      <td>32</td>\n",
       "      <td>22</td>\n",
       "      <td>86</td>\n",
       "      <td>9.0</td>\n",
       "      <td>1003</td>\n",
       "      <td>Cloudy</td>\n",
       "      <td>Cloudy</td>\n",
       "      <td>0.0</td>\n",
       "      <td>1</td>\n",
       "      <td>0</td>\n",
       "      <td>0</td>\n",
       "    </tr>\n",
       "    <tr>\n",
       "      <th>2</th>\n",
       "      <td>27-06-2023</td>\n",
       "      <td>10:00</td>\n",
       "      <td>28</td>\n",
       "      <td>34</td>\n",
       "      <td>23</td>\n",
       "      <td>90</td>\n",
       "      <td>3.0</td>\n",
       "      <td>1003</td>\n",
       "      <td>Cloudy</td>\n",
       "      <td>Rain</td>\n",
       "      <td>1.0</td>\n",
       "      <td>1</td>\n",
       "      <td>0</td>\n",
       "      <td>0</td>\n",
       "    </tr>\n",
       "    <tr>\n",
       "      <th>3</th>\n",
       "      <td>27-06-2023</td>\n",
       "      <td>11:00</td>\n",
       "      <td>28</td>\n",
       "      <td>33</td>\n",
       "      <td>30</td>\n",
       "      <td>85</td>\n",
       "      <td>9.0</td>\n",
       "      <td>1003</td>\n",
       "      <td>Isolated Thunderstroms</td>\n",
       "      <td>Rain</td>\n",
       "      <td>1.0</td>\n",
       "      <td>1</td>\n",
       "      <td>0</td>\n",
       "      <td>0</td>\n",
       "    </tr>\n",
       "    <tr>\n",
       "      <th>4</th>\n",
       "      <td>27-06-2023</td>\n",
       "      <td>12:00</td>\n",
       "      <td>27</td>\n",
       "      <td>32</td>\n",
       "      <td>53</td>\n",
       "      <td>90</td>\n",
       "      <td>9.0</td>\n",
       "      <td>1003</td>\n",
       "      <td>Rain</td>\n",
       "      <td>Sunny</td>\n",
       "      <td>0.0</td>\n",
       "      <td>0</td>\n",
       "      <td>1</td>\n",
       "      <td>0</td>\n",
       "    </tr>\n",
       "    <tr>\n",
       "      <th>...</th>\n",
       "      <td>...</td>\n",
       "      <td>...</td>\n",
       "      <td>...</td>\n",
       "      <td>...</td>\n",
       "      <td>...</td>\n",
       "      <td>...</td>\n",
       "      <td>...</td>\n",
       "      <td>...</td>\n",
       "      <td>...</td>\n",
       "      <td>...</td>\n",
       "      <td>...</td>\n",
       "      <td>...</td>\n",
       "      <td>...</td>\n",
       "      <td>...</td>\n",
       "    </tr>\n",
       "    <tr>\n",
       "      <th>4499</th>\n",
       "      <td>31-12-2023</td>\n",
       "      <td>19:00</td>\n",
       "      <td>20</td>\n",
       "      <td>20</td>\n",
       "      <td>1</td>\n",
       "      <td>77</td>\n",
       "      <td>8.0</td>\n",
       "      <td>1014</td>\n",
       "      <td>Clear</td>\n",
       "      <td>Clear</td>\n",
       "      <td>0.0</td>\n",
       "      <td>0</td>\n",
       "      <td>1</td>\n",
       "      <td>0</td>\n",
       "    </tr>\n",
       "    <tr>\n",
       "      <th>4500</th>\n",
       "      <td>31-12-2023</td>\n",
       "      <td>20:00</td>\n",
       "      <td>19</td>\n",
       "      <td>19</td>\n",
       "      <td>1</td>\n",
       "      <td>80</td>\n",
       "      <td>14.0</td>\n",
       "      <td>1015</td>\n",
       "      <td>Clear</td>\n",
       "      <td>Clear</td>\n",
       "      <td>0.0</td>\n",
       "      <td>0</td>\n",
       "      <td>1</td>\n",
       "      <td>0</td>\n",
       "    </tr>\n",
       "    <tr>\n",
       "      <th>4501</th>\n",
       "      <td>31-12-2023</td>\n",
       "      <td>21:00</td>\n",
       "      <td>19</td>\n",
       "      <td>19</td>\n",
       "      <td>2</td>\n",
       "      <td>82</td>\n",
       "      <td>14.0</td>\n",
       "      <td>1015</td>\n",
       "      <td>Clear</td>\n",
       "      <td>Clear</td>\n",
       "      <td>0.0</td>\n",
       "      <td>0</td>\n",
       "      <td>1</td>\n",
       "      <td>0</td>\n",
       "    </tr>\n",
       "    <tr>\n",
       "      <th>4502</th>\n",
       "      <td>31-12-2023</td>\n",
       "      <td>22:00</td>\n",
       "      <td>18</td>\n",
       "      <td>18</td>\n",
       "      <td>2</td>\n",
       "      <td>83</td>\n",
       "      <td>14.0</td>\n",
       "      <td>1015</td>\n",
       "      <td>Clear</td>\n",
       "      <td>Clear</td>\n",
       "      <td>0.0</td>\n",
       "      <td>0</td>\n",
       "      <td>1</td>\n",
       "      <td>0</td>\n",
       "    </tr>\n",
       "    <tr>\n",
       "      <th>4503</th>\n",
       "      <td>31-12-2023</td>\n",
       "      <td>23:00</td>\n",
       "      <td>18</td>\n",
       "      <td>18</td>\n",
       "      <td>2</td>\n",
       "      <td>84</td>\n",
       "      <td>14.0</td>\n",
       "      <td>1015</td>\n",
       "      <td>Clear</td>\n",
       "      <td>Clear</td>\n",
       "      <td>0.0</td>\n",
       "      <td>0</td>\n",
       "      <td>1</td>\n",
       "      <td>0</td>\n",
       "    </tr>\n",
       "  </tbody>\n",
       "</table>\n",
       "<p>4504 rows × 14 columns</p>\n",
       "</div>"
      ],
      "text/plain": [
       "            Date   Time  Temperature(C)  Feel likes(C)  Chance of Prec.(%)  \\\n",
       "0     27-06-2023  08:00              27             32                  21   \n",
       "1     27-06-2023  09:00              27             32                  22   \n",
       "2     27-06-2023  10:00              28             34                  23   \n",
       "3     27-06-2023  11:00              28             33                  30   \n",
       "4     27-06-2023  12:00              27             32                  53   \n",
       "...          ...    ...             ...            ...                 ...   \n",
       "4499  31-12-2023  19:00              20             20                   1   \n",
       "4500  31-12-2023  20:00              19             19                   1   \n",
       "4501  31-12-2023  21:00              19             19                   2   \n",
       "4502  31-12-2023  22:00              18             18                   2   \n",
       "4503  31-12-2023  23:00              18             18                   2   \n",
       "\n",
       "      Humidity(%)  Visibity(km)  Pressure(hPa)                    State  \\\n",
       "0              87           3.0           1003                  Cloudy    \n",
       "1              86           9.0           1003                  Cloudy    \n",
       "2              90           3.0           1003                  Cloudy    \n",
       "3              85           9.0           1003  Isolated Thunderstroms    \n",
       "4              90           9.0           1003                     Rain   \n",
       "...           ...           ...            ...                      ...   \n",
       "4499           77           8.0           1014                    Clear   \n",
       "4500           80          14.0           1015                    Clear   \n",
       "4501           82          14.0           1015                    Clear   \n",
       "4502           83          14.0           1015                    Clear   \n",
       "4503           84          14.0           1015                    Clear   \n",
       "\n",
       "     Real State  Rain  Cloudy  Sunny  Fog  \n",
       "0        Cloudy   0.0       1      0    0  \n",
       "1        Cloudy   0.0       1      0    0  \n",
       "2          Rain   1.0       1      0    0  \n",
       "3          Rain   1.0       1      0    0  \n",
       "4         Sunny   0.0       0      1    0  \n",
       "...         ...   ...     ...    ...  ...  \n",
       "4499      Clear   0.0       0      1    0  \n",
       "4500      Clear   0.0       0      1    0  \n",
       "4501      Clear   0.0       0      1    0  \n",
       "4502      Clear   0.0       0      1    0  \n",
       "4503      Clear   0.0       0      1    0  \n",
       "\n",
       "[4504 rows x 14 columns]"
      ]
     },
     "execution_count": 2,
     "metadata": {},
     "output_type": "execute_result"
    }
   ],
   "source": [
    "df"
   ]
  },
  {
   "cell_type": "code",
   "execution_count": 3,
   "id": "59b6bef3-de07-4b4c-8184-123d9c838bcc",
   "metadata": {
    "tags": []
   },
   "outputs": [],
   "source": [
    "Final = []\n",
    "for row in df['Real State']:\n",
    "        if row=='Rain' or row=='Light Rain' or row=='Heavy Rain' or row=='Heavy rain' or row=='Showers' or row=='showers' or row=='Heavy Thunderstroms' :    Final.append(0)\n",
    "        elif row=='Cloudy' or row=='Mostly Cloudy' or row=='Mostly cloudy' or row=='cloudy' or row=='Cloudy ':  Final.append(1)\n",
    "        elif row=='Sunny' or row=='Clear' or row=='Sunny ' or row=='Suuny':  Final.append(2)\n",
    "        elif row =='Fog' or row=='fog':  Final.append(3)\n",
    "        elif row=='Thunderstorms' or row=='Thunderstroms' or row=='Isolated Thunderstroms' or row=='Isolated Thunderstorms ' or row=='Isolated Thunderstroms ' or row=='scattered Thunderstorms' or row=='scattered Thunderstroms' or row=='Scattered Thunderstroms' :  Final.append(0)\n",
    "\n",
    "        else:  Final.append(4)"
   ]
  },
  {
   "cell_type": "code",
   "execution_count": 4,
   "id": "d437964f-63f1-48ef-9ec5-0f63a0159977",
   "metadata": {
    "tags": []
   },
   "outputs": [
    {
     "data": {
      "text/html": [
       "<div>\n",
       "<style scoped>\n",
       "    .dataframe tbody tr th:only-of-type {\n",
       "        vertical-align: middle;\n",
       "    }\n",
       "\n",
       "    .dataframe tbody tr th {\n",
       "        vertical-align: top;\n",
       "    }\n",
       "\n",
       "    .dataframe thead th {\n",
       "        text-align: right;\n",
       "    }\n",
       "</style>\n",
       "<table border=\"1\" class=\"dataframe\">\n",
       "  <thead>\n",
       "    <tr style=\"text-align: right;\">\n",
       "      <th></th>\n",
       "      <th>Date</th>\n",
       "      <th>Time</th>\n",
       "      <th>Temperature(C)</th>\n",
       "      <th>Feel likes(C)</th>\n",
       "      <th>Chance of Prec.(%)</th>\n",
       "      <th>Humidity(%)</th>\n",
       "      <th>Visibity(km)</th>\n",
       "      <th>Pressure(hPa)</th>\n",
       "      <th>State</th>\n",
       "      <th>Real State</th>\n",
       "      <th>Rain</th>\n",
       "      <th>Cloudy</th>\n",
       "      <th>Sunny</th>\n",
       "      <th>Fog</th>\n",
       "      <th>Final</th>\n",
       "    </tr>\n",
       "  </thead>\n",
       "  <tbody>\n",
       "    <tr>\n",
       "      <th>0</th>\n",
       "      <td>27-06-2023</td>\n",
       "      <td>08:00</td>\n",
       "      <td>27</td>\n",
       "      <td>32</td>\n",
       "      <td>21</td>\n",
       "      <td>87</td>\n",
       "      <td>3.0</td>\n",
       "      <td>1003</td>\n",
       "      <td>Cloudy</td>\n",
       "      <td>Cloudy</td>\n",
       "      <td>0.0</td>\n",
       "      <td>1</td>\n",
       "      <td>0</td>\n",
       "      <td>0</td>\n",
       "      <td>1</td>\n",
       "    </tr>\n",
       "    <tr>\n",
       "      <th>1</th>\n",
       "      <td>27-06-2023</td>\n",
       "      <td>09:00</td>\n",
       "      <td>27</td>\n",
       "      <td>32</td>\n",
       "      <td>22</td>\n",
       "      <td>86</td>\n",
       "      <td>9.0</td>\n",
       "      <td>1003</td>\n",
       "      <td>Cloudy</td>\n",
       "      <td>Cloudy</td>\n",
       "      <td>0.0</td>\n",
       "      <td>1</td>\n",
       "      <td>0</td>\n",
       "      <td>0</td>\n",
       "      <td>1</td>\n",
       "    </tr>\n",
       "    <tr>\n",
       "      <th>2</th>\n",
       "      <td>27-06-2023</td>\n",
       "      <td>10:00</td>\n",
       "      <td>28</td>\n",
       "      <td>34</td>\n",
       "      <td>23</td>\n",
       "      <td>90</td>\n",
       "      <td>3.0</td>\n",
       "      <td>1003</td>\n",
       "      <td>Cloudy</td>\n",
       "      <td>Rain</td>\n",
       "      <td>1.0</td>\n",
       "      <td>1</td>\n",
       "      <td>0</td>\n",
       "      <td>0</td>\n",
       "      <td>0</td>\n",
       "    </tr>\n",
       "    <tr>\n",
       "      <th>3</th>\n",
       "      <td>27-06-2023</td>\n",
       "      <td>11:00</td>\n",
       "      <td>28</td>\n",
       "      <td>33</td>\n",
       "      <td>30</td>\n",
       "      <td>85</td>\n",
       "      <td>9.0</td>\n",
       "      <td>1003</td>\n",
       "      <td>Isolated Thunderstroms</td>\n",
       "      <td>Rain</td>\n",
       "      <td>1.0</td>\n",
       "      <td>1</td>\n",
       "      <td>0</td>\n",
       "      <td>0</td>\n",
       "      <td>0</td>\n",
       "    </tr>\n",
       "    <tr>\n",
       "      <th>4</th>\n",
       "      <td>27-06-2023</td>\n",
       "      <td>12:00</td>\n",
       "      <td>27</td>\n",
       "      <td>32</td>\n",
       "      <td>53</td>\n",
       "      <td>90</td>\n",
       "      <td>9.0</td>\n",
       "      <td>1003</td>\n",
       "      <td>Rain</td>\n",
       "      <td>Sunny</td>\n",
       "      <td>0.0</td>\n",
       "      <td>0</td>\n",
       "      <td>1</td>\n",
       "      <td>0</td>\n",
       "      <td>2</td>\n",
       "    </tr>\n",
       "    <tr>\n",
       "      <th>...</th>\n",
       "      <td>...</td>\n",
       "      <td>...</td>\n",
       "      <td>...</td>\n",
       "      <td>...</td>\n",
       "      <td>...</td>\n",
       "      <td>...</td>\n",
       "      <td>...</td>\n",
       "      <td>...</td>\n",
       "      <td>...</td>\n",
       "      <td>...</td>\n",
       "      <td>...</td>\n",
       "      <td>...</td>\n",
       "      <td>...</td>\n",
       "      <td>...</td>\n",
       "      <td>...</td>\n",
       "    </tr>\n",
       "    <tr>\n",
       "      <th>4499</th>\n",
       "      <td>31-12-2023</td>\n",
       "      <td>19:00</td>\n",
       "      <td>20</td>\n",
       "      <td>20</td>\n",
       "      <td>1</td>\n",
       "      <td>77</td>\n",
       "      <td>8.0</td>\n",
       "      <td>1014</td>\n",
       "      <td>Clear</td>\n",
       "      <td>Clear</td>\n",
       "      <td>0.0</td>\n",
       "      <td>0</td>\n",
       "      <td>1</td>\n",
       "      <td>0</td>\n",
       "      <td>2</td>\n",
       "    </tr>\n",
       "    <tr>\n",
       "      <th>4500</th>\n",
       "      <td>31-12-2023</td>\n",
       "      <td>20:00</td>\n",
       "      <td>19</td>\n",
       "      <td>19</td>\n",
       "      <td>1</td>\n",
       "      <td>80</td>\n",
       "      <td>14.0</td>\n",
       "      <td>1015</td>\n",
       "      <td>Clear</td>\n",
       "      <td>Clear</td>\n",
       "      <td>0.0</td>\n",
       "      <td>0</td>\n",
       "      <td>1</td>\n",
       "      <td>0</td>\n",
       "      <td>2</td>\n",
       "    </tr>\n",
       "    <tr>\n",
       "      <th>4501</th>\n",
       "      <td>31-12-2023</td>\n",
       "      <td>21:00</td>\n",
       "      <td>19</td>\n",
       "      <td>19</td>\n",
       "      <td>2</td>\n",
       "      <td>82</td>\n",
       "      <td>14.0</td>\n",
       "      <td>1015</td>\n",
       "      <td>Clear</td>\n",
       "      <td>Clear</td>\n",
       "      <td>0.0</td>\n",
       "      <td>0</td>\n",
       "      <td>1</td>\n",
       "      <td>0</td>\n",
       "      <td>2</td>\n",
       "    </tr>\n",
       "    <tr>\n",
       "      <th>4502</th>\n",
       "      <td>31-12-2023</td>\n",
       "      <td>22:00</td>\n",
       "      <td>18</td>\n",
       "      <td>18</td>\n",
       "      <td>2</td>\n",
       "      <td>83</td>\n",
       "      <td>14.0</td>\n",
       "      <td>1015</td>\n",
       "      <td>Clear</td>\n",
       "      <td>Clear</td>\n",
       "      <td>0.0</td>\n",
       "      <td>0</td>\n",
       "      <td>1</td>\n",
       "      <td>0</td>\n",
       "      <td>2</td>\n",
       "    </tr>\n",
       "    <tr>\n",
       "      <th>4503</th>\n",
       "      <td>31-12-2023</td>\n",
       "      <td>23:00</td>\n",
       "      <td>18</td>\n",
       "      <td>18</td>\n",
       "      <td>2</td>\n",
       "      <td>84</td>\n",
       "      <td>14.0</td>\n",
       "      <td>1015</td>\n",
       "      <td>Clear</td>\n",
       "      <td>Clear</td>\n",
       "      <td>0.0</td>\n",
       "      <td>0</td>\n",
       "      <td>1</td>\n",
       "      <td>0</td>\n",
       "      <td>2</td>\n",
       "    </tr>\n",
       "  </tbody>\n",
       "</table>\n",
       "<p>4504 rows × 15 columns</p>\n",
       "</div>"
      ],
      "text/plain": [
       "            Date   Time  Temperature(C)  Feel likes(C)  Chance of Prec.(%)  \\\n",
       "0     27-06-2023  08:00              27             32                  21   \n",
       "1     27-06-2023  09:00              27             32                  22   \n",
       "2     27-06-2023  10:00              28             34                  23   \n",
       "3     27-06-2023  11:00              28             33                  30   \n",
       "4     27-06-2023  12:00              27             32                  53   \n",
       "...          ...    ...             ...            ...                 ...   \n",
       "4499  31-12-2023  19:00              20             20                   1   \n",
       "4500  31-12-2023  20:00              19             19                   1   \n",
       "4501  31-12-2023  21:00              19             19                   2   \n",
       "4502  31-12-2023  22:00              18             18                   2   \n",
       "4503  31-12-2023  23:00              18             18                   2   \n",
       "\n",
       "      Humidity(%)  Visibity(km)  Pressure(hPa)                    State  \\\n",
       "0              87           3.0           1003                  Cloudy    \n",
       "1              86           9.0           1003                  Cloudy    \n",
       "2              90           3.0           1003                  Cloudy    \n",
       "3              85           9.0           1003  Isolated Thunderstroms    \n",
       "4              90           9.0           1003                     Rain   \n",
       "...           ...           ...            ...                      ...   \n",
       "4499           77           8.0           1014                    Clear   \n",
       "4500           80          14.0           1015                    Clear   \n",
       "4501           82          14.0           1015                    Clear   \n",
       "4502           83          14.0           1015                    Clear   \n",
       "4503           84          14.0           1015                    Clear   \n",
       "\n",
       "     Real State  Rain  Cloudy  Sunny  Fog  Final  \n",
       "0        Cloudy   0.0       1      0    0      1  \n",
       "1        Cloudy   0.0       1      0    0      1  \n",
       "2          Rain   1.0       1      0    0      0  \n",
       "3          Rain   1.0       1      0    0      0  \n",
       "4         Sunny   0.0       0      1    0      2  \n",
       "...         ...   ...     ...    ...  ...    ...  \n",
       "4499      Clear   0.0       0      1    0      2  \n",
       "4500      Clear   0.0       0      1    0      2  \n",
       "4501      Clear   0.0       0      1    0      2  \n",
       "4502      Clear   0.0       0      1    0      2  \n",
       "4503      Clear   0.0       0      1    0      2  \n",
       "\n",
       "[4504 rows x 15 columns]"
      ]
     },
     "execution_count": 4,
     "metadata": {},
     "output_type": "execute_result"
    }
   ],
   "source": [
    "df['Final'] = Final\n",
    "\n",
    "    \n",
    "df"
   ]
  },
  {
   "cell_type": "code",
   "execution_count": 5,
   "id": "fe8aef36-95ef-4c60-ae28-535ced200733",
   "metadata": {
    "tags": []
   },
   "outputs": [
    {
     "data": {
      "text/html": [
       "<div>\n",
       "<style scoped>\n",
       "    .dataframe tbody tr th:only-of-type {\n",
       "        vertical-align: middle;\n",
       "    }\n",
       "\n",
       "    .dataframe tbody tr th {\n",
       "        vertical-align: top;\n",
       "    }\n",
       "\n",
       "    .dataframe thead th {\n",
       "        text-align: right;\n",
       "    }\n",
       "</style>\n",
       "<table border=\"1\" class=\"dataframe\">\n",
       "  <thead>\n",
       "    <tr style=\"text-align: right;\">\n",
       "      <th></th>\n",
       "      <th>Date</th>\n",
       "      <th>Time</th>\n",
       "      <th>Temperature(C)</th>\n",
       "      <th>Feel likes(C)</th>\n",
       "      <th>Chance of Prec.(%)</th>\n",
       "      <th>Humidity(%)</th>\n",
       "      <th>Visibity(km)</th>\n",
       "      <th>Pressure(hPa)</th>\n",
       "      <th>State</th>\n",
       "      <th>Real State</th>\n",
       "      <th>Rain</th>\n",
       "      <th>Cloudy</th>\n",
       "      <th>Sunny</th>\n",
       "      <th>Fog</th>\n",
       "      <th>Final</th>\n",
       "    </tr>\n",
       "  </thead>\n",
       "  <tbody>\n",
       "    <tr>\n",
       "      <th>0</th>\n",
       "      <td>27-06-2023</td>\n",
       "      <td>08:00</td>\n",
       "      <td>27</td>\n",
       "      <td>32</td>\n",
       "      <td>21</td>\n",
       "      <td>87</td>\n",
       "      <td>3.0</td>\n",
       "      <td>1003</td>\n",
       "      <td>Cloudy</td>\n",
       "      <td>Cloudy</td>\n",
       "      <td>1</td>\n",
       "      <td>1</td>\n",
       "      <td>0</td>\n",
       "      <td>0</td>\n",
       "      <td>1</td>\n",
       "    </tr>\n",
       "    <tr>\n",
       "      <th>1</th>\n",
       "      <td>27-06-2023</td>\n",
       "      <td>09:00</td>\n",
       "      <td>27</td>\n",
       "      <td>32</td>\n",
       "      <td>22</td>\n",
       "      <td>86</td>\n",
       "      <td>9.0</td>\n",
       "      <td>1003</td>\n",
       "      <td>Cloudy</td>\n",
       "      <td>Cloudy</td>\n",
       "      <td>1</td>\n",
       "      <td>1</td>\n",
       "      <td>0</td>\n",
       "      <td>0</td>\n",
       "      <td>1</td>\n",
       "    </tr>\n",
       "    <tr>\n",
       "      <th>2</th>\n",
       "      <td>27-06-2023</td>\n",
       "      <td>10:00</td>\n",
       "      <td>28</td>\n",
       "      <td>34</td>\n",
       "      <td>23</td>\n",
       "      <td>90</td>\n",
       "      <td>3.0</td>\n",
       "      <td>1003</td>\n",
       "      <td>Cloudy</td>\n",
       "      <td>Rain</td>\n",
       "      <td>1</td>\n",
       "      <td>1</td>\n",
       "      <td>0</td>\n",
       "      <td>0</td>\n",
       "      <td>0</td>\n",
       "    </tr>\n",
       "    <tr>\n",
       "      <th>3</th>\n",
       "      <td>27-06-2023</td>\n",
       "      <td>11:00</td>\n",
       "      <td>28</td>\n",
       "      <td>33</td>\n",
       "      <td>30</td>\n",
       "      <td>85</td>\n",
       "      <td>9.0</td>\n",
       "      <td>1003</td>\n",
       "      <td>Isolated Thunderstroms</td>\n",
       "      <td>Rain</td>\n",
       "      <td>1</td>\n",
       "      <td>1</td>\n",
       "      <td>0</td>\n",
       "      <td>0</td>\n",
       "      <td>0</td>\n",
       "    </tr>\n",
       "    <tr>\n",
       "      <th>4</th>\n",
       "      <td>27-06-2023</td>\n",
       "      <td>12:00</td>\n",
       "      <td>27</td>\n",
       "      <td>32</td>\n",
       "      <td>53</td>\n",
       "      <td>90</td>\n",
       "      <td>9.0</td>\n",
       "      <td>1003</td>\n",
       "      <td>Rain</td>\n",
       "      <td>Sunny</td>\n",
       "      <td>1</td>\n",
       "      <td>0</td>\n",
       "      <td>1</td>\n",
       "      <td>0</td>\n",
       "      <td>2</td>\n",
       "    </tr>\n",
       "    <tr>\n",
       "      <th>...</th>\n",
       "      <td>...</td>\n",
       "      <td>...</td>\n",
       "      <td>...</td>\n",
       "      <td>...</td>\n",
       "      <td>...</td>\n",
       "      <td>...</td>\n",
       "      <td>...</td>\n",
       "      <td>...</td>\n",
       "      <td>...</td>\n",
       "      <td>...</td>\n",
       "      <td>...</td>\n",
       "      <td>...</td>\n",
       "      <td>...</td>\n",
       "      <td>...</td>\n",
       "      <td>...</td>\n",
       "    </tr>\n",
       "    <tr>\n",
       "      <th>4499</th>\n",
       "      <td>31-12-2023</td>\n",
       "      <td>19:00</td>\n",
       "      <td>20</td>\n",
       "      <td>20</td>\n",
       "      <td>1</td>\n",
       "      <td>77</td>\n",
       "      <td>8.0</td>\n",
       "      <td>1014</td>\n",
       "      <td>Clear</td>\n",
       "      <td>Clear</td>\n",
       "      <td>1</td>\n",
       "      <td>0</td>\n",
       "      <td>1</td>\n",
       "      <td>0</td>\n",
       "      <td>2</td>\n",
       "    </tr>\n",
       "    <tr>\n",
       "      <th>4500</th>\n",
       "      <td>31-12-2023</td>\n",
       "      <td>20:00</td>\n",
       "      <td>19</td>\n",
       "      <td>19</td>\n",
       "      <td>1</td>\n",
       "      <td>80</td>\n",
       "      <td>14.0</td>\n",
       "      <td>1015</td>\n",
       "      <td>Clear</td>\n",
       "      <td>Clear</td>\n",
       "      <td>1</td>\n",
       "      <td>0</td>\n",
       "      <td>1</td>\n",
       "      <td>0</td>\n",
       "      <td>2</td>\n",
       "    </tr>\n",
       "    <tr>\n",
       "      <th>4501</th>\n",
       "      <td>31-12-2023</td>\n",
       "      <td>21:00</td>\n",
       "      <td>19</td>\n",
       "      <td>19</td>\n",
       "      <td>2</td>\n",
       "      <td>82</td>\n",
       "      <td>14.0</td>\n",
       "      <td>1015</td>\n",
       "      <td>Clear</td>\n",
       "      <td>Clear</td>\n",
       "      <td>1</td>\n",
       "      <td>0</td>\n",
       "      <td>1</td>\n",
       "      <td>0</td>\n",
       "      <td>2</td>\n",
       "    </tr>\n",
       "    <tr>\n",
       "      <th>4502</th>\n",
       "      <td>31-12-2023</td>\n",
       "      <td>22:00</td>\n",
       "      <td>18</td>\n",
       "      <td>18</td>\n",
       "      <td>2</td>\n",
       "      <td>83</td>\n",
       "      <td>14.0</td>\n",
       "      <td>1015</td>\n",
       "      <td>Clear</td>\n",
       "      <td>Clear</td>\n",
       "      <td>1</td>\n",
       "      <td>0</td>\n",
       "      <td>1</td>\n",
       "      <td>0</td>\n",
       "      <td>2</td>\n",
       "    </tr>\n",
       "    <tr>\n",
       "      <th>4503</th>\n",
       "      <td>31-12-2023</td>\n",
       "      <td>23:00</td>\n",
       "      <td>18</td>\n",
       "      <td>18</td>\n",
       "      <td>2</td>\n",
       "      <td>84</td>\n",
       "      <td>14.0</td>\n",
       "      <td>1015</td>\n",
       "      <td>Clear</td>\n",
       "      <td>Clear</td>\n",
       "      <td>1</td>\n",
       "      <td>0</td>\n",
       "      <td>1</td>\n",
       "      <td>0</td>\n",
       "      <td>2</td>\n",
       "    </tr>\n",
       "  </tbody>\n",
       "</table>\n",
       "<p>4504 rows × 15 columns</p>\n",
       "</div>"
      ],
      "text/plain": [
       "            Date   Time  Temperature(C)  Feel likes(C)  Chance of Prec.(%)  \\\n",
       "0     27-06-2023  08:00              27             32                  21   \n",
       "1     27-06-2023  09:00              27             32                  22   \n",
       "2     27-06-2023  10:00              28             34                  23   \n",
       "3     27-06-2023  11:00              28             33                  30   \n",
       "4     27-06-2023  12:00              27             32                  53   \n",
       "...          ...    ...             ...            ...                 ...   \n",
       "4499  31-12-2023  19:00              20             20                   1   \n",
       "4500  31-12-2023  20:00              19             19                   1   \n",
       "4501  31-12-2023  21:00              19             19                   2   \n",
       "4502  31-12-2023  22:00              18             18                   2   \n",
       "4503  31-12-2023  23:00              18             18                   2   \n",
       "\n",
       "      Humidity(%)  Visibity(km)  Pressure(hPa)                    State  \\\n",
       "0              87           3.0           1003                  Cloudy    \n",
       "1              86           9.0           1003                  Cloudy    \n",
       "2              90           3.0           1003                  Cloudy    \n",
       "3              85           9.0           1003  Isolated Thunderstroms    \n",
       "4              90           9.0           1003                     Rain   \n",
       "...           ...           ...            ...                      ...   \n",
       "4499           77           8.0           1014                    Clear   \n",
       "4500           80          14.0           1015                    Clear   \n",
       "4501           82          14.0           1015                    Clear   \n",
       "4502           83          14.0           1015                    Clear   \n",
       "4503           84          14.0           1015                    Clear   \n",
       "\n",
       "     Real State  Rain  Cloudy  Sunny  Fog  Final  \n",
       "0        Cloudy     1       1      0    0      1  \n",
       "1        Cloudy     1       1      0    0      1  \n",
       "2          Rain     1       1      0    0      0  \n",
       "3          Rain     1       1      0    0      0  \n",
       "4         Sunny     1       0      1    0      2  \n",
       "...         ...   ...     ...    ...  ...    ...  \n",
       "4499      Clear     1       0      1    0      2  \n",
       "4500      Clear     1       0      1    0      2  \n",
       "4501      Clear     1       0      1    0      2  \n",
       "4502      Clear     1       0      1    0      2  \n",
       "4503      Clear     1       0      1    0      2  \n",
       "\n",
       "[4504 rows x 15 columns]"
      ]
     },
     "execution_count": 5,
     "metadata": {},
     "output_type": "execute_result"
    }
   ],
   "source": [
    "for col in df.columns:\n",
    "    \n",
    "    df['Rain'] = np.where(df['Rain'] == 0.0, -1, 1)\n",
    "df"
   ]
  },
  {
   "cell_type": "code",
   "execution_count": 6,
   "id": "abeff54a-c6f4-46c0-886e-57d014e26408",
   "metadata": {
    "tags": []
   },
   "outputs": [],
   "source": [
    "df.drop(columns=['Date','Time', 'State','Real State', 'Rain','Fog','Sunny','Cloudy'], inplace=True)"
   ]
  },
  {
   "cell_type": "code",
   "execution_count": 7,
   "id": "1c79ae2a-8953-4315-849a-75c5d87e40f0",
   "metadata": {
    "tags": []
   },
   "outputs": [
    {
     "data": {
      "text/html": [
       "<div>\n",
       "<style scoped>\n",
       "    .dataframe tbody tr th:only-of-type {\n",
       "        vertical-align: middle;\n",
       "    }\n",
       "\n",
       "    .dataframe tbody tr th {\n",
       "        vertical-align: top;\n",
       "    }\n",
       "\n",
       "    .dataframe thead th {\n",
       "        text-align: right;\n",
       "    }\n",
       "</style>\n",
       "<table border=\"1\" class=\"dataframe\">\n",
       "  <thead>\n",
       "    <tr style=\"text-align: right;\">\n",
       "      <th></th>\n",
       "      <th>Temperature(C)</th>\n",
       "      <th>Feel likes(C)</th>\n",
       "      <th>Chance of Prec.(%)</th>\n",
       "      <th>Humidity(%)</th>\n",
       "      <th>Visibity(km)</th>\n",
       "      <th>Pressure(hPa)</th>\n",
       "      <th>Final</th>\n",
       "    </tr>\n",
       "  </thead>\n",
       "  <tbody>\n",
       "    <tr>\n",
       "      <th>0</th>\n",
       "      <td>27</td>\n",
       "      <td>32</td>\n",
       "      <td>21</td>\n",
       "      <td>87</td>\n",
       "      <td>3.0</td>\n",
       "      <td>1003</td>\n",
       "      <td>1</td>\n",
       "    </tr>\n",
       "    <tr>\n",
       "      <th>1</th>\n",
       "      <td>27</td>\n",
       "      <td>32</td>\n",
       "      <td>22</td>\n",
       "      <td>86</td>\n",
       "      <td>9.0</td>\n",
       "      <td>1003</td>\n",
       "      <td>1</td>\n",
       "    </tr>\n",
       "    <tr>\n",
       "      <th>2</th>\n",
       "      <td>28</td>\n",
       "      <td>34</td>\n",
       "      <td>23</td>\n",
       "      <td>90</td>\n",
       "      <td>3.0</td>\n",
       "      <td>1003</td>\n",
       "      <td>0</td>\n",
       "    </tr>\n",
       "    <tr>\n",
       "      <th>3</th>\n",
       "      <td>28</td>\n",
       "      <td>33</td>\n",
       "      <td>30</td>\n",
       "      <td>85</td>\n",
       "      <td>9.0</td>\n",
       "      <td>1003</td>\n",
       "      <td>0</td>\n",
       "    </tr>\n",
       "    <tr>\n",
       "      <th>4</th>\n",
       "      <td>27</td>\n",
       "      <td>32</td>\n",
       "      <td>53</td>\n",
       "      <td>90</td>\n",
       "      <td>9.0</td>\n",
       "      <td>1003</td>\n",
       "      <td>2</td>\n",
       "    </tr>\n",
       "    <tr>\n",
       "      <th>...</th>\n",
       "      <td>...</td>\n",
       "      <td>...</td>\n",
       "      <td>...</td>\n",
       "      <td>...</td>\n",
       "      <td>...</td>\n",
       "      <td>...</td>\n",
       "      <td>...</td>\n",
       "    </tr>\n",
       "    <tr>\n",
       "      <th>4499</th>\n",
       "      <td>20</td>\n",
       "      <td>20</td>\n",
       "      <td>1</td>\n",
       "      <td>77</td>\n",
       "      <td>8.0</td>\n",
       "      <td>1014</td>\n",
       "      <td>2</td>\n",
       "    </tr>\n",
       "    <tr>\n",
       "      <th>4500</th>\n",
       "      <td>19</td>\n",
       "      <td>19</td>\n",
       "      <td>1</td>\n",
       "      <td>80</td>\n",
       "      <td>14.0</td>\n",
       "      <td>1015</td>\n",
       "      <td>2</td>\n",
       "    </tr>\n",
       "    <tr>\n",
       "      <th>4501</th>\n",
       "      <td>19</td>\n",
       "      <td>19</td>\n",
       "      <td>2</td>\n",
       "      <td>82</td>\n",
       "      <td>14.0</td>\n",
       "      <td>1015</td>\n",
       "      <td>2</td>\n",
       "    </tr>\n",
       "    <tr>\n",
       "      <th>4502</th>\n",
       "      <td>18</td>\n",
       "      <td>18</td>\n",
       "      <td>2</td>\n",
       "      <td>83</td>\n",
       "      <td>14.0</td>\n",
       "      <td>1015</td>\n",
       "      <td>2</td>\n",
       "    </tr>\n",
       "    <tr>\n",
       "      <th>4503</th>\n",
       "      <td>18</td>\n",
       "      <td>18</td>\n",
       "      <td>2</td>\n",
       "      <td>84</td>\n",
       "      <td>14.0</td>\n",
       "      <td>1015</td>\n",
       "      <td>2</td>\n",
       "    </tr>\n",
       "  </tbody>\n",
       "</table>\n",
       "<p>4504 rows × 7 columns</p>\n",
       "</div>"
      ],
      "text/plain": [
       "      Temperature(C)  Feel likes(C)  Chance of Prec.(%)  Humidity(%)  \\\n",
       "0                 27             32                  21           87   \n",
       "1                 27             32                  22           86   \n",
       "2                 28             34                  23           90   \n",
       "3                 28             33                  30           85   \n",
       "4                 27             32                  53           90   \n",
       "...              ...            ...                 ...          ...   \n",
       "4499              20             20                   1           77   \n",
       "4500              19             19                   1           80   \n",
       "4501              19             19                   2           82   \n",
       "4502              18             18                   2           83   \n",
       "4503              18             18                   2           84   \n",
       "\n",
       "      Visibity(km)  Pressure(hPa)  Final  \n",
       "0              3.0           1003      1  \n",
       "1              9.0           1003      1  \n",
       "2              3.0           1003      0  \n",
       "3              9.0           1003      0  \n",
       "4              9.0           1003      2  \n",
       "...            ...            ...    ...  \n",
       "4499           8.0           1014      2  \n",
       "4500          14.0           1015      2  \n",
       "4501          14.0           1015      2  \n",
       "4502          14.0           1015      2  \n",
       "4503          14.0           1015      2  \n",
       "\n",
       "[4504 rows x 7 columns]"
      ]
     },
     "execution_count": 7,
     "metadata": {},
     "output_type": "execute_result"
    }
   ],
   "source": [
    "df"
   ]
  },
  {
   "cell_type": "code",
   "execution_count": 8,
   "id": "39d70168-0535-40a7-8c63-231f3e4ada7a",
   "metadata": {
    "tags": []
   },
   "outputs": [
    {
     "name": "stderr",
     "output_type": "stream",
     "text": [
      "/tmp/ipykernel_21283/994370666.py:2: DeprecationWarning: The package qiskit.providers.ibmq is being deprecated. Please see https://ibm.biz/provider_migration_guide to get instructions on how to migrate to qiskit-ibm-provider (https://github.com/Qiskit/qiskit-ibm-provider) and qiskit-ibm-runtime (https://github.com/Qiskit/qiskit-ibm-runtime).\n",
      "  IBMQ.load_account()\n",
      "/tmp/ipykernel_21283/994370666.py:2: DeprecationWarning: The qiskit.IBMQ entrypoint and the qiskit-ibmq-provider package (accessible from 'qiskit.providers.ibmq`) are deprecated and will be removed in a future release. Instead you should use the qiskit-ibm-provider package which is accessible from 'qiskit_ibm_provider'. You can install it with 'pip install qiskit_ibm_provider'. Just replace 'qiskit.IBMQ' with 'qiskit_ibm_provider.IBMProvider'\n",
      "  IBMQ.load_account()\n"
     ]
    },
    {
     "data": {
      "text/plain": [
       "<AccountProvider for IBMQ(hub='ibm-q', group='open', project='main')>"
      ]
     },
     "execution_count": 8,
     "metadata": {},
     "output_type": "execute_result"
    }
   ],
   "source": [
    "from qiskit import *\n",
    "IBMQ.load_account()"
   ]
  },
  {
   "cell_type": "code",
   "execution_count": 9,
   "id": "2a0d7cbc-9646-4860-b9f8-33a15da62a60",
   "metadata": {
    "tags": []
   },
   "outputs": [
    {
     "data": {
      "text/plain": [
       "[<IBMQSimulator('ibmq_qasm_simulator') from IBMQ(hub='ibm-q', group='open', project='main')>,\n",
       " <IBMQSimulator('simulator_statevector') from IBMQ(hub='ibm-q', group='open', project='main')>,\n",
       " <IBMQSimulator('simulator_mps') from IBMQ(hub='ibm-q', group='open', project='main')>,\n",
       " <IBMQSimulator('simulator_extended_stabilizer') from IBMQ(hub='ibm-q', group='open', project='main')>,\n",
       " <IBMQSimulator('simulator_stabilizer') from IBMQ(hub='ibm-q', group='open', project='main')>,\n",
       " <IBMQBackend('ibm_brisbane') from IBMQ(hub='ibm-q', group='open', project='main')>,\n",
       " <IBMQBackend('ibm_kyoto') from IBMQ(hub='ibm-q', group='open', project='main')>,\n",
       " <IBMQBackend('ibm_osaka') from IBMQ(hub='ibm-q', group='open', project='main')>]"
      ]
     },
     "execution_count": 9,
     "metadata": {},
     "output_type": "execute_result"
    }
   ],
   "source": [
    "provider = IBMQ.get_provider(hub='ibm-q', group='open', project='main')\n",
    "provider.backends()"
   ]
  },
  {
   "cell_type": "code",
   "execution_count": 10,
   "id": "a7333ae2-274f-46e5-9a5a-4408c877fffd",
   "metadata": {
    "tags": []
   },
   "outputs": [
    {
     "name": "stdout",
     "output_type": "stream",
     "text": [
      "Using 3 features Price, Open, High: \n",
      "for size 50\n",
      "svm classification score: 0.5\n"
     ]
    },
    {
     "name": "stderr",
     "output_type": "stream",
     "text": [
      "/tmp/ipykernel_21283/2293736319.py:35: DeprecationWarning: The property ``qiskit.utils.algorithm_globals.QiskitAlgorithmGlobals.random_seed`` is deprecated as of qiskit 0.45.0. It will be removed no earlier than 3 months after the release date. This algorithm utility has been migrated to an independent package: https://github.com/qiskit-community/qiskit-algorithms. You can run ``pip install qiskit_algorithms`` and import ``from qiskit_algorithms.utils`` instead. \n",
      "  algorithm_globals.random_seed = seed\n",
      "/tmp/ipykernel_21283/2293736319.py:39: DeprecationWarning: The class ``qiskit.utils.quantum_instance.QuantumInstance`` is deprecated as of qiskit-terra 0.24.0. It will be removed no earlier than 3 months after the release date. For code migration guidelines, visit https://qisk.it/qi_migration.\n",
      "  dse_backend = QuantumInstance(\n"
     ]
    },
    {
     "name": "stdout",
     "output_type": "stream",
     "text": [
      "qsvm classification test score: 0.5\n",
      "for size 100\n",
      "svm classification score: 0.7\n"
     ]
    },
    {
     "name": "stderr",
     "output_type": "stream",
     "text": [
      "/tmp/ipykernel_21283/2293736319.py:35: DeprecationWarning: The property ``qiskit.utils.algorithm_globals.QiskitAlgorithmGlobals.random_seed`` is deprecated as of qiskit 0.45.0. It will be removed no earlier than 3 months after the release date. This algorithm utility has been migrated to an independent package: https://github.com/qiskit-community/qiskit-algorithms. You can run ``pip install qiskit_algorithms`` and import ``from qiskit_algorithms.utils`` instead. \n",
      "  algorithm_globals.random_seed = seed\n",
      "/tmp/ipykernel_21283/2293736319.py:39: DeprecationWarning: The class ``qiskit.utils.quantum_instance.QuantumInstance`` is deprecated as of qiskit-terra 0.24.0. It will be removed no earlier than 3 months after the release date. For code migration guidelines, visit https://qisk.it/qi_migration.\n",
      "  dse_backend = QuantumInstance(\n"
     ]
    },
    {
     "name": "stdout",
     "output_type": "stream",
     "text": [
      "qsvm classification test score: 0.65\n",
      "for size 150\n",
      "svm classification score: 0.5666666666666667\n"
     ]
    },
    {
     "name": "stderr",
     "output_type": "stream",
     "text": [
      "/tmp/ipykernel_21283/2293736319.py:35: DeprecationWarning: The property ``qiskit.utils.algorithm_globals.QiskitAlgorithmGlobals.random_seed`` is deprecated as of qiskit 0.45.0. It will be removed no earlier than 3 months after the release date. This algorithm utility has been migrated to an independent package: https://github.com/qiskit-community/qiskit-algorithms. You can run ``pip install qiskit_algorithms`` and import ``from qiskit_algorithms.utils`` instead. \n",
      "  algorithm_globals.random_seed = seed\n",
      "/tmp/ipykernel_21283/2293736319.py:39: DeprecationWarning: The class ``qiskit.utils.quantum_instance.QuantumInstance`` is deprecated as of qiskit-terra 0.24.0. It will be removed no earlier than 3 months after the release date. For code migration guidelines, visit https://qisk.it/qi_migration.\n",
      "  dse_backend = QuantumInstance(\n"
     ]
    },
    {
     "name": "stdout",
     "output_type": "stream",
     "text": [
      "qsvm classification test score: 0.5666666666666667\n",
      "for size 200\n",
      "svm classification score: 0.825\n"
     ]
    },
    {
     "name": "stderr",
     "output_type": "stream",
     "text": [
      "/tmp/ipykernel_21283/2293736319.py:35: DeprecationWarning: The property ``qiskit.utils.algorithm_globals.QiskitAlgorithmGlobals.random_seed`` is deprecated as of qiskit 0.45.0. It will be removed no earlier than 3 months after the release date. This algorithm utility has been migrated to an independent package: https://github.com/qiskit-community/qiskit-algorithms. You can run ``pip install qiskit_algorithms`` and import ``from qiskit_algorithms.utils`` instead. \n",
      "  algorithm_globals.random_seed = seed\n",
      "/tmp/ipykernel_21283/2293736319.py:39: DeprecationWarning: The class ``qiskit.utils.quantum_instance.QuantumInstance`` is deprecated as of qiskit-terra 0.24.0. It will be removed no earlier than 3 months after the release date. For code migration guidelines, visit https://qisk.it/qi_migration.\n",
      "  dse_backend = QuantumInstance(\n"
     ]
    },
    {
     "name": "stdout",
     "output_type": "stream",
     "text": [
      "qsvm classification test score: 0.8\n",
      "for size 250\n",
      "svm classification score: 0.72\n"
     ]
    },
    {
     "name": "stderr",
     "output_type": "stream",
     "text": [
      "/tmp/ipykernel_21283/2293736319.py:35: DeprecationWarning: The property ``qiskit.utils.algorithm_globals.QiskitAlgorithmGlobals.random_seed`` is deprecated as of qiskit 0.45.0. It will be removed no earlier than 3 months after the release date. This algorithm utility has been migrated to an independent package: https://github.com/qiskit-community/qiskit-algorithms. You can run ``pip install qiskit_algorithms`` and import ``from qiskit_algorithms.utils`` instead. \n",
      "  algorithm_globals.random_seed = seed\n",
      "/tmp/ipykernel_21283/2293736319.py:39: DeprecationWarning: The class ``qiskit.utils.quantum_instance.QuantumInstance`` is deprecated as of qiskit-terra 0.24.0. It will be removed no earlier than 3 months after the release date. For code migration guidelines, visit https://qisk.it/qi_migration.\n",
      "  dse_backend = QuantumInstance(\n"
     ]
    },
    {
     "name": "stdout",
     "output_type": "stream",
     "text": [
      "qsvm classification test score: 0.7\n"
     ]
    }
   ],
   "source": [
    "print(\"Using 3 features Price, Open, High: \")\n",
    "sz = []\n",
    "svm_acc = []\n",
    "qsvm_acc = []\n",
    "for data_size in range(50, 300, 50):\n",
    "    print(\"for size\", data_size)\n",
    "    sz.append(data_size)\n",
    "    x = df.iloc[:data_size, 0:-1]\n",
    "    y = df.iloc[:data_size, -1]\n",
    "    # spltting the dataset into train and test set\n",
    "    from sklearn.model_selection import train_test_split\n",
    "    x_train, x_test, y_train, y_test = train_test_split(x, y, test_size = 0.2, random_state = 31)\n",
    "    from sklearn import svm\n",
    "    svc_clf = svm.SVC(random_state = 7)\n",
    "    svc_clf.fit(x_train, y_train)\n",
    "    svc_score = svc_clf.score(x_test, y_test)\n",
    "    print(f\"svm classification score: {svc_score}\")\n",
    "    svm_acc.append(svc_score)\n",
    "    import qiskit\n",
    "    import matplotlib.pyplot as plt\n",
    "    import numpy as np\n",
    "\n",
    "    from sklearn.svm import SVC\n",
    "    from sklearn.cluster import SpectralClustering\n",
    "    from sklearn.metrics import normalized_mutual_info_score\n",
    "\n",
    "    from qiskit import BasicAer\n",
    "    from qiskit.circuit.library import ZZFeatureMap\n",
    "    from qiskit.utils import QuantumInstance, algorithm_globals\n",
    "    from qiskit_machine_learning.algorithms import QSVC\n",
    "    from qiskit_machine_learning.kernels import QuantumKernel\n",
    "    from qiskit_machine_learning.datasets import ad_hoc_data\n",
    "\n",
    "    seed = 12345\n",
    "    algorithm_globals.random_seed = seed\n",
    "    # Building Kernel\n",
    "    dse_feature_map = ZZFeatureMap(feature_dimension=4, reps=2, entanglement=\"linear\")\n",
    "\n",
    "    dse_backend = QuantumInstance(\n",
    "        BasicAer.get_backend('qasm_simulator'), shots=1024, seed_simulator=seed, seed_transpiler=seed\n",
    "    )\n",
    "\n",
    "    dse_kernel = QuantumKernel(feature_map=dse_feature_map, quantum_instance=dse_backend)\n",
    "    dse_svc = SVC(kernel=dse_kernel.evaluate)\n",
    "    dse_svc.fit(x_train, y_train)\n",
    "    dse_score = dse_svc.score(x_test, y_test)\n",
    "\n",
    "    print(f\"qsvm classification test score: {dse_score}\")\n",
    "    qsvm_acc.append(dse_score)"
   ]
  },
  {
   "cell_type": "code",
   "execution_count": 11,
   "id": "9f4dd949-3794-4eae-8eb9-dd641f99dbf1",
   "metadata": {},
   "outputs": [
    {
     "name": "stdout",
     "output_type": "stream",
     "text": [
      "[0.5, 0.7, 0.5666666666666667, 0.825, 0.72]\n",
      "[0.5, 0.65, 0.5666666666666667, 0.8, 0.7]\n"
     ]
    }
   ],
   "source": [
    "print(svm_acc)\n",
    "print(qsvm_acc)"
   ]
  },
  {
   "cell_type": "code",
   "execution_count": 12,
   "id": "f58b7777-7000-43b1-ab88-8f8d7d367cab",
   "metadata": {
    "tags": []
   },
   "outputs": [
    {
     "name": "stdout",
     "output_type": "stream",
     "text": [
      "current iteration:  1\n",
      "for size 50\n",
      "svm classification score: 0.7692307692307693\n"
     ]
    },
    {
     "name": "stderr",
     "output_type": "stream",
     "text": [
      "/tmp/ipykernel_21283/3260333131.py:38: DeprecationWarning: The property ``qiskit.utils.algorithm_globals.QiskitAlgorithmGlobals.random_seed`` is deprecated as of qiskit 0.45.0. It will be removed no earlier than 3 months after the release date. This algorithm utility has been migrated to an independent package: https://github.com/qiskit-community/qiskit-algorithms. You can run ``pip install qiskit_algorithms`` and import ``from qiskit_algorithms.utils`` instead. \n",
      "  algorithm_globals.random_seed = seed\n",
      "/tmp/ipykernel_21283/3260333131.py:42: DeprecationWarning: The class ``qiskit.utils.quantum_instance.QuantumInstance`` is deprecated as of qiskit-terra 0.24.0. It will be removed no earlier than 3 months after the release date. For code migration guidelines, visit https://qisk.it/qi_migration.\n",
      "  dse_backend = QuantumInstance(\n"
     ]
    },
    {
     "name": "stdout",
     "output_type": "stream",
     "text": [
      "qsvm classification test score: 0.7692307692307693\n",
      "for size 100\n",
      "svm classification score: 0.48\n"
     ]
    },
    {
     "name": "stderr",
     "output_type": "stream",
     "text": [
      "/tmp/ipykernel_21283/3260333131.py:38: DeprecationWarning: The property ``qiskit.utils.algorithm_globals.QiskitAlgorithmGlobals.random_seed`` is deprecated as of qiskit 0.45.0. It will be removed no earlier than 3 months after the release date. This algorithm utility has been migrated to an independent package: https://github.com/qiskit-community/qiskit-algorithms. You can run ``pip install qiskit_algorithms`` and import ``from qiskit_algorithms.utils`` instead. \n",
      "  algorithm_globals.random_seed = seed\n",
      "/tmp/ipykernel_21283/3260333131.py:42: DeprecationWarning: The class ``qiskit.utils.quantum_instance.QuantumInstance`` is deprecated as of qiskit-terra 0.24.0. It will be removed no earlier than 3 months after the release date. For code migration guidelines, visit https://qisk.it/qi_migration.\n",
      "  dse_backend = QuantumInstance(\n"
     ]
    },
    {
     "name": "stdout",
     "output_type": "stream",
     "text": [
      "qsvm classification test score: 0.44\n",
      "for size 150\n",
      "svm classification score: 0.7105263157894737\n"
     ]
    },
    {
     "name": "stderr",
     "output_type": "stream",
     "text": [
      "/tmp/ipykernel_21283/3260333131.py:38: DeprecationWarning: The property ``qiskit.utils.algorithm_globals.QiskitAlgorithmGlobals.random_seed`` is deprecated as of qiskit 0.45.0. It will be removed no earlier than 3 months after the release date. This algorithm utility has been migrated to an independent package: https://github.com/qiskit-community/qiskit-algorithms. You can run ``pip install qiskit_algorithms`` and import ``from qiskit_algorithms.utils`` instead. \n",
      "  algorithm_globals.random_seed = seed\n",
      "/tmp/ipykernel_21283/3260333131.py:42: DeprecationWarning: The class ``qiskit.utils.quantum_instance.QuantumInstance`` is deprecated as of qiskit-terra 0.24.0. It will be removed no earlier than 3 months after the release date. For code migration guidelines, visit https://qisk.it/qi_migration.\n",
      "  dse_backend = QuantumInstance(\n"
     ]
    },
    {
     "name": "stdout",
     "output_type": "stream",
     "text": [
      "qsvm classification test score: 0.6842105263157895\n",
      "for size 200\n",
      "svm classification score: 0.68\n"
     ]
    },
    {
     "name": "stderr",
     "output_type": "stream",
     "text": [
      "/tmp/ipykernel_21283/3260333131.py:38: DeprecationWarning: The property ``qiskit.utils.algorithm_globals.QiskitAlgorithmGlobals.random_seed`` is deprecated as of qiskit 0.45.0. It will be removed no earlier than 3 months after the release date. This algorithm utility has been migrated to an independent package: https://github.com/qiskit-community/qiskit-algorithms. You can run ``pip install qiskit_algorithms`` and import ``from qiskit_algorithms.utils`` instead. \n",
      "  algorithm_globals.random_seed = seed\n",
      "/tmp/ipykernel_21283/3260333131.py:42: DeprecationWarning: The class ``qiskit.utils.quantum_instance.QuantumInstance`` is deprecated as of qiskit-terra 0.24.0. It will be removed no earlier than 3 months after the release date. For code migration guidelines, visit https://qisk.it/qi_migration.\n",
      "  dse_backend = QuantumInstance(\n"
     ]
    },
    {
     "name": "stdout",
     "output_type": "stream",
     "text": [
      "qsvm classification test score: 0.68\n",
      "for size 250\n",
      "svm classification score: 0.6507936507936508\n"
     ]
    },
    {
     "name": "stderr",
     "output_type": "stream",
     "text": [
      "/tmp/ipykernel_21283/3260333131.py:38: DeprecationWarning: The property ``qiskit.utils.algorithm_globals.QiskitAlgorithmGlobals.random_seed`` is deprecated as of qiskit 0.45.0. It will be removed no earlier than 3 months after the release date. This algorithm utility has been migrated to an independent package: https://github.com/qiskit-community/qiskit-algorithms. You can run ``pip install qiskit_algorithms`` and import ``from qiskit_algorithms.utils`` instead. \n",
      "  algorithm_globals.random_seed = seed\n",
      "/tmp/ipykernel_21283/3260333131.py:42: DeprecationWarning: The class ``qiskit.utils.quantum_instance.QuantumInstance`` is deprecated as of qiskit-terra 0.24.0. It will be removed no earlier than 3 months after the release date. For code migration guidelines, visit https://qisk.it/qi_migration.\n",
      "  dse_backend = QuantumInstance(\n"
     ]
    },
    {
     "name": "stdout",
     "output_type": "stream",
     "text": [
      "qsvm classification test score: 0.6507936507936508\n",
      "=============================================\n",
      "current iteration:  2\n",
      "for size 50\n",
      "svm classification score: 0.6153846153846154\n"
     ]
    },
    {
     "name": "stderr",
     "output_type": "stream",
     "text": [
      "/tmp/ipykernel_21283/3260333131.py:38: DeprecationWarning: The property ``qiskit.utils.algorithm_globals.QiskitAlgorithmGlobals.random_seed`` is deprecated as of qiskit 0.45.0. It will be removed no earlier than 3 months after the release date. This algorithm utility has been migrated to an independent package: https://github.com/qiskit-community/qiskit-algorithms. You can run ``pip install qiskit_algorithms`` and import ``from qiskit_algorithms.utils`` instead. \n",
      "  algorithm_globals.random_seed = seed\n",
      "/tmp/ipykernel_21283/3260333131.py:42: DeprecationWarning: The class ``qiskit.utils.quantum_instance.QuantumInstance`` is deprecated as of qiskit-terra 0.24.0. It will be removed no earlier than 3 months after the release date. For code migration guidelines, visit https://qisk.it/qi_migration.\n",
      "  dse_backend = QuantumInstance(\n"
     ]
    },
    {
     "name": "stdout",
     "output_type": "stream",
     "text": [
      "qsvm classification test score: 0.6153846153846154\n",
      "for size 100\n",
      "svm classification score: 0.88\n"
     ]
    },
    {
     "name": "stderr",
     "output_type": "stream",
     "text": [
      "/tmp/ipykernel_21283/3260333131.py:38: DeprecationWarning: The property ``qiskit.utils.algorithm_globals.QiskitAlgorithmGlobals.random_seed`` is deprecated as of qiskit 0.45.0. It will be removed no earlier than 3 months after the release date. This algorithm utility has been migrated to an independent package: https://github.com/qiskit-community/qiskit-algorithms. You can run ``pip install qiskit_algorithms`` and import ``from qiskit_algorithms.utils`` instead. \n",
      "  algorithm_globals.random_seed = seed\n",
      "/tmp/ipykernel_21283/3260333131.py:42: DeprecationWarning: The class ``qiskit.utils.quantum_instance.QuantumInstance`` is deprecated as of qiskit-terra 0.24.0. It will be removed no earlier than 3 months after the release date. For code migration guidelines, visit https://qisk.it/qi_migration.\n",
      "  dse_backend = QuantumInstance(\n"
     ]
    },
    {
     "name": "stdout",
     "output_type": "stream",
     "text": [
      "qsvm classification test score: 0.88\n",
      "for size 150\n",
      "svm classification score: 0.5789473684210527\n"
     ]
    },
    {
     "name": "stderr",
     "output_type": "stream",
     "text": [
      "/tmp/ipykernel_21283/3260333131.py:38: DeprecationWarning: The property ``qiskit.utils.algorithm_globals.QiskitAlgorithmGlobals.random_seed`` is deprecated as of qiskit 0.45.0. It will be removed no earlier than 3 months after the release date. This algorithm utility has been migrated to an independent package: https://github.com/qiskit-community/qiskit-algorithms. You can run ``pip install qiskit_algorithms`` and import ``from qiskit_algorithms.utils`` instead. \n",
      "  algorithm_globals.random_seed = seed\n",
      "/tmp/ipykernel_21283/3260333131.py:42: DeprecationWarning: The class ``qiskit.utils.quantum_instance.QuantumInstance`` is deprecated as of qiskit-terra 0.24.0. It will be removed no earlier than 3 months after the release date. For code migration guidelines, visit https://qisk.it/qi_migration.\n",
      "  dse_backend = QuantumInstance(\n"
     ]
    },
    {
     "name": "stdout",
     "output_type": "stream",
     "text": [
      "qsvm classification test score: 0.5789473684210527\n",
      "for size 200\n",
      "svm classification score: 0.64\n"
     ]
    },
    {
     "name": "stderr",
     "output_type": "stream",
     "text": [
      "/tmp/ipykernel_21283/3260333131.py:38: DeprecationWarning: The property ``qiskit.utils.algorithm_globals.QiskitAlgorithmGlobals.random_seed`` is deprecated as of qiskit 0.45.0. It will be removed no earlier than 3 months after the release date. This algorithm utility has been migrated to an independent package: https://github.com/qiskit-community/qiskit-algorithms. You can run ``pip install qiskit_algorithms`` and import ``from qiskit_algorithms.utils`` instead. \n",
      "  algorithm_globals.random_seed = seed\n",
      "/tmp/ipykernel_21283/3260333131.py:42: DeprecationWarning: The class ``qiskit.utils.quantum_instance.QuantumInstance`` is deprecated as of qiskit-terra 0.24.0. It will be removed no earlier than 3 months after the release date. For code migration guidelines, visit https://qisk.it/qi_migration.\n",
      "  dse_backend = QuantumInstance(\n"
     ]
    },
    {
     "name": "stdout",
     "output_type": "stream",
     "text": [
      "qsvm classification test score: 0.64\n",
      "for size 250\n",
      "svm classification score: 0.6984126984126984\n"
     ]
    },
    {
     "name": "stderr",
     "output_type": "stream",
     "text": [
      "/tmp/ipykernel_21283/3260333131.py:38: DeprecationWarning: The property ``qiskit.utils.algorithm_globals.QiskitAlgorithmGlobals.random_seed`` is deprecated as of qiskit 0.45.0. It will be removed no earlier than 3 months after the release date. This algorithm utility has been migrated to an independent package: https://github.com/qiskit-community/qiskit-algorithms. You can run ``pip install qiskit_algorithms`` and import ``from qiskit_algorithms.utils`` instead. \n",
      "  algorithm_globals.random_seed = seed\n",
      "/tmp/ipykernel_21283/3260333131.py:42: DeprecationWarning: The class ``qiskit.utils.quantum_instance.QuantumInstance`` is deprecated as of qiskit-terra 0.24.0. It will be removed no earlier than 3 months after the release date. For code migration guidelines, visit https://qisk.it/qi_migration.\n",
      "  dse_backend = QuantumInstance(\n"
     ]
    },
    {
     "name": "stdout",
     "output_type": "stream",
     "text": [
      "qsvm classification test score: 0.6984126984126984\n",
      "=============================================\n",
      "current iteration:  3\n",
      "for size 50\n",
      "svm classification score: 0.7692307692307693\n"
     ]
    },
    {
     "name": "stderr",
     "output_type": "stream",
     "text": [
      "/tmp/ipykernel_21283/3260333131.py:38: DeprecationWarning: The property ``qiskit.utils.algorithm_globals.QiskitAlgorithmGlobals.random_seed`` is deprecated as of qiskit 0.45.0. It will be removed no earlier than 3 months after the release date. This algorithm utility has been migrated to an independent package: https://github.com/qiskit-community/qiskit-algorithms. You can run ``pip install qiskit_algorithms`` and import ``from qiskit_algorithms.utils`` instead. \n",
      "  algorithm_globals.random_seed = seed\n",
      "/tmp/ipykernel_21283/3260333131.py:42: DeprecationWarning: The class ``qiskit.utils.quantum_instance.QuantumInstance`` is deprecated as of qiskit-terra 0.24.0. It will be removed no earlier than 3 months after the release date. For code migration guidelines, visit https://qisk.it/qi_migration.\n",
      "  dse_backend = QuantumInstance(\n"
     ]
    },
    {
     "name": "stdout",
     "output_type": "stream",
     "text": [
      "qsvm classification test score: 0.7692307692307693\n",
      "for size 100\n",
      "svm classification score: 0.64\n"
     ]
    },
    {
     "name": "stderr",
     "output_type": "stream",
     "text": [
      "/tmp/ipykernel_21283/3260333131.py:38: DeprecationWarning: The property ``qiskit.utils.algorithm_globals.QiskitAlgorithmGlobals.random_seed`` is deprecated as of qiskit 0.45.0. It will be removed no earlier than 3 months after the release date. This algorithm utility has been migrated to an independent package: https://github.com/qiskit-community/qiskit-algorithms. You can run ``pip install qiskit_algorithms`` and import ``from qiskit_algorithms.utils`` instead. \n",
      "  algorithm_globals.random_seed = seed\n",
      "/tmp/ipykernel_21283/3260333131.py:42: DeprecationWarning: The class ``qiskit.utils.quantum_instance.QuantumInstance`` is deprecated as of qiskit-terra 0.24.0. It will be removed no earlier than 3 months after the release date. For code migration guidelines, visit https://qisk.it/qi_migration.\n",
      "  dse_backend = QuantumInstance(\n"
     ]
    },
    {
     "name": "stdout",
     "output_type": "stream",
     "text": [
      "qsvm classification test score: 0.6\n",
      "for size 150\n",
      "svm classification score: 0.7368421052631579\n"
     ]
    },
    {
     "name": "stderr",
     "output_type": "stream",
     "text": [
      "/tmp/ipykernel_21283/3260333131.py:38: DeprecationWarning: The property ``qiskit.utils.algorithm_globals.QiskitAlgorithmGlobals.random_seed`` is deprecated as of qiskit 0.45.0. It will be removed no earlier than 3 months after the release date. This algorithm utility has been migrated to an independent package: https://github.com/qiskit-community/qiskit-algorithms. You can run ``pip install qiskit_algorithms`` and import ``from qiskit_algorithms.utils`` instead. \n",
      "  algorithm_globals.random_seed = seed\n",
      "/tmp/ipykernel_21283/3260333131.py:42: DeprecationWarning: The class ``qiskit.utils.quantum_instance.QuantumInstance`` is deprecated as of qiskit-terra 0.24.0. It will be removed no earlier than 3 months after the release date. For code migration guidelines, visit https://qisk.it/qi_migration.\n",
      "  dse_backend = QuantumInstance(\n"
     ]
    },
    {
     "name": "stdout",
     "output_type": "stream",
     "text": [
      "qsvm classification test score: 0.7368421052631579\n",
      "for size 200\n",
      "svm classification score: 0.76\n"
     ]
    },
    {
     "name": "stderr",
     "output_type": "stream",
     "text": [
      "/tmp/ipykernel_21283/3260333131.py:38: DeprecationWarning: The property ``qiskit.utils.algorithm_globals.QiskitAlgorithmGlobals.random_seed`` is deprecated as of qiskit 0.45.0. It will be removed no earlier than 3 months after the release date. This algorithm utility has been migrated to an independent package: https://github.com/qiskit-community/qiskit-algorithms. You can run ``pip install qiskit_algorithms`` and import ``from qiskit_algorithms.utils`` instead. \n",
      "  algorithm_globals.random_seed = seed\n",
      "/tmp/ipykernel_21283/3260333131.py:42: DeprecationWarning: The class ``qiskit.utils.quantum_instance.QuantumInstance`` is deprecated as of qiskit-terra 0.24.0. It will be removed no earlier than 3 months after the release date. For code migration guidelines, visit https://qisk.it/qi_migration.\n",
      "  dse_backend = QuantumInstance(\n"
     ]
    },
    {
     "name": "stdout",
     "output_type": "stream",
     "text": [
      "qsvm classification test score: 0.76\n",
      "for size 250\n",
      "svm classification score: 0.7142857142857143\n"
     ]
    },
    {
     "name": "stderr",
     "output_type": "stream",
     "text": [
      "/tmp/ipykernel_21283/3260333131.py:38: DeprecationWarning: The property ``qiskit.utils.algorithm_globals.QiskitAlgorithmGlobals.random_seed`` is deprecated as of qiskit 0.45.0. It will be removed no earlier than 3 months after the release date. This algorithm utility has been migrated to an independent package: https://github.com/qiskit-community/qiskit-algorithms. You can run ``pip install qiskit_algorithms`` and import ``from qiskit_algorithms.utils`` instead. \n",
      "  algorithm_globals.random_seed = seed\n",
      "/tmp/ipykernel_21283/3260333131.py:42: DeprecationWarning: The class ``qiskit.utils.quantum_instance.QuantumInstance`` is deprecated as of qiskit-terra 0.24.0. It will be removed no earlier than 3 months after the release date. For code migration guidelines, visit https://qisk.it/qi_migration.\n",
      "  dse_backend = QuantumInstance(\n"
     ]
    },
    {
     "name": "stdout",
     "output_type": "stream",
     "text": [
      "qsvm classification test score: 0.7142857142857143\n",
      "=============================================\n",
      "current iteration:  4\n",
      "for size 50\n",
      "svm classification score: 0.5384615384615384\n"
     ]
    },
    {
     "name": "stderr",
     "output_type": "stream",
     "text": [
      "/tmp/ipykernel_21283/3260333131.py:38: DeprecationWarning: The property ``qiskit.utils.algorithm_globals.QiskitAlgorithmGlobals.random_seed`` is deprecated as of qiskit 0.45.0. It will be removed no earlier than 3 months after the release date. This algorithm utility has been migrated to an independent package: https://github.com/qiskit-community/qiskit-algorithms. You can run ``pip install qiskit_algorithms`` and import ``from qiskit_algorithms.utils`` instead. \n",
      "  algorithm_globals.random_seed = seed\n",
      "/tmp/ipykernel_21283/3260333131.py:42: DeprecationWarning: The class ``qiskit.utils.quantum_instance.QuantumInstance`` is deprecated as of qiskit-terra 0.24.0. It will be removed no earlier than 3 months after the release date. For code migration guidelines, visit https://qisk.it/qi_migration.\n",
      "  dse_backend = QuantumInstance(\n"
     ]
    },
    {
     "name": "stdout",
     "output_type": "stream",
     "text": [
      "qsvm classification test score: 0.5384615384615384\n",
      "for size 100\n",
      "svm classification score: 0.76\n"
     ]
    },
    {
     "name": "stderr",
     "output_type": "stream",
     "text": [
      "/tmp/ipykernel_21283/3260333131.py:38: DeprecationWarning: The property ``qiskit.utils.algorithm_globals.QiskitAlgorithmGlobals.random_seed`` is deprecated as of qiskit 0.45.0. It will be removed no earlier than 3 months after the release date. This algorithm utility has been migrated to an independent package: https://github.com/qiskit-community/qiskit-algorithms. You can run ``pip install qiskit_algorithms`` and import ``from qiskit_algorithms.utils`` instead. \n",
      "  algorithm_globals.random_seed = seed\n",
      "/tmp/ipykernel_21283/3260333131.py:42: DeprecationWarning: The class ``qiskit.utils.quantum_instance.QuantumInstance`` is deprecated as of qiskit-terra 0.24.0. It will be removed no earlier than 3 months after the release date. For code migration guidelines, visit https://qisk.it/qi_migration.\n",
      "  dse_backend = QuantumInstance(\n"
     ]
    },
    {
     "name": "stdout",
     "output_type": "stream",
     "text": [
      "qsvm classification test score: 0.76\n",
      "for size 150\n",
      "svm classification score: 0.7894736842105263\n"
     ]
    },
    {
     "name": "stderr",
     "output_type": "stream",
     "text": [
      "/tmp/ipykernel_21283/3260333131.py:38: DeprecationWarning: The property ``qiskit.utils.algorithm_globals.QiskitAlgorithmGlobals.random_seed`` is deprecated as of qiskit 0.45.0. It will be removed no earlier than 3 months after the release date. This algorithm utility has been migrated to an independent package: https://github.com/qiskit-community/qiskit-algorithms. You can run ``pip install qiskit_algorithms`` and import ``from qiskit_algorithms.utils`` instead. \n",
      "  algorithm_globals.random_seed = seed\n",
      "/tmp/ipykernel_21283/3260333131.py:42: DeprecationWarning: The class ``qiskit.utils.quantum_instance.QuantumInstance`` is deprecated as of qiskit-terra 0.24.0. It will be removed no earlier than 3 months after the release date. For code migration guidelines, visit https://qisk.it/qi_migration.\n",
      "  dse_backend = QuantumInstance(\n"
     ]
    },
    {
     "name": "stdout",
     "output_type": "stream",
     "text": [
      "qsvm classification test score: 0.7894736842105263\n",
      "for size 200\n",
      "svm classification score: 0.78\n"
     ]
    },
    {
     "name": "stderr",
     "output_type": "stream",
     "text": [
      "/tmp/ipykernel_21283/3260333131.py:38: DeprecationWarning: The property ``qiskit.utils.algorithm_globals.QiskitAlgorithmGlobals.random_seed`` is deprecated as of qiskit 0.45.0. It will be removed no earlier than 3 months after the release date. This algorithm utility has been migrated to an independent package: https://github.com/qiskit-community/qiskit-algorithms. You can run ``pip install qiskit_algorithms`` and import ``from qiskit_algorithms.utils`` instead. \n",
      "  algorithm_globals.random_seed = seed\n",
      "/tmp/ipykernel_21283/3260333131.py:42: DeprecationWarning: The class ``qiskit.utils.quantum_instance.QuantumInstance`` is deprecated as of qiskit-terra 0.24.0. It will be removed no earlier than 3 months after the release date. For code migration guidelines, visit https://qisk.it/qi_migration.\n",
      "  dse_backend = QuantumInstance(\n"
     ]
    },
    {
     "name": "stdout",
     "output_type": "stream",
     "text": [
      "qsvm classification test score: 0.78\n",
      "for size 250\n",
      "svm classification score: 0.7619047619047619\n"
     ]
    },
    {
     "name": "stderr",
     "output_type": "stream",
     "text": [
      "/tmp/ipykernel_21283/3260333131.py:38: DeprecationWarning: The property ``qiskit.utils.algorithm_globals.QiskitAlgorithmGlobals.random_seed`` is deprecated as of qiskit 0.45.0. It will be removed no earlier than 3 months after the release date. This algorithm utility has been migrated to an independent package: https://github.com/qiskit-community/qiskit-algorithms. You can run ``pip install qiskit_algorithms`` and import ``from qiskit_algorithms.utils`` instead. \n",
      "  algorithm_globals.random_seed = seed\n",
      "/tmp/ipykernel_21283/3260333131.py:42: DeprecationWarning: The class ``qiskit.utils.quantum_instance.QuantumInstance`` is deprecated as of qiskit-terra 0.24.0. It will be removed no earlier than 3 months after the release date. For code migration guidelines, visit https://qisk.it/qi_migration.\n",
      "  dse_backend = QuantumInstance(\n"
     ]
    },
    {
     "name": "stdout",
     "output_type": "stream",
     "text": [
      "qsvm classification test score: 0.7619047619047619\n",
      "=============================================\n",
      "current iteration:  5\n",
      "for size 50\n",
      "svm classification score: 0.46153846153846156\n"
     ]
    },
    {
     "name": "stderr",
     "output_type": "stream",
     "text": [
      "/tmp/ipykernel_21283/3260333131.py:38: DeprecationWarning: The property ``qiskit.utils.algorithm_globals.QiskitAlgorithmGlobals.random_seed`` is deprecated as of qiskit 0.45.0. It will be removed no earlier than 3 months after the release date. This algorithm utility has been migrated to an independent package: https://github.com/qiskit-community/qiskit-algorithms. You can run ``pip install qiskit_algorithms`` and import ``from qiskit_algorithms.utils`` instead. \n",
      "  algorithm_globals.random_seed = seed\n",
      "/tmp/ipykernel_21283/3260333131.py:42: DeprecationWarning: The class ``qiskit.utils.quantum_instance.QuantumInstance`` is deprecated as of qiskit-terra 0.24.0. It will be removed no earlier than 3 months after the release date. For code migration guidelines, visit https://qisk.it/qi_migration.\n",
      "  dse_backend = QuantumInstance(\n"
     ]
    },
    {
     "name": "stdout",
     "output_type": "stream",
     "text": [
      "qsvm classification test score: 0.46153846153846156\n",
      "for size 100\n",
      "svm classification score: 0.68\n"
     ]
    },
    {
     "name": "stderr",
     "output_type": "stream",
     "text": [
      "/tmp/ipykernel_21283/3260333131.py:38: DeprecationWarning: The property ``qiskit.utils.algorithm_globals.QiskitAlgorithmGlobals.random_seed`` is deprecated as of qiskit 0.45.0. It will be removed no earlier than 3 months after the release date. This algorithm utility has been migrated to an independent package: https://github.com/qiskit-community/qiskit-algorithms. You can run ``pip install qiskit_algorithms`` and import ``from qiskit_algorithms.utils`` instead. \n",
      "  algorithm_globals.random_seed = seed\n",
      "/tmp/ipykernel_21283/3260333131.py:42: DeprecationWarning: The class ``qiskit.utils.quantum_instance.QuantumInstance`` is deprecated as of qiskit-terra 0.24.0. It will be removed no earlier than 3 months after the release date. For code migration guidelines, visit https://qisk.it/qi_migration.\n",
      "  dse_backend = QuantumInstance(\n"
     ]
    },
    {
     "name": "stdout",
     "output_type": "stream",
     "text": [
      "qsvm classification test score: 0.68\n",
      "for size 150\n",
      "svm classification score: 0.868421052631579\n"
     ]
    },
    {
     "name": "stderr",
     "output_type": "stream",
     "text": [
      "/tmp/ipykernel_21283/3260333131.py:38: DeprecationWarning: The property ``qiskit.utils.algorithm_globals.QiskitAlgorithmGlobals.random_seed`` is deprecated as of qiskit 0.45.0. It will be removed no earlier than 3 months after the release date. This algorithm utility has been migrated to an independent package: https://github.com/qiskit-community/qiskit-algorithms. You can run ``pip install qiskit_algorithms`` and import ``from qiskit_algorithms.utils`` instead. \n",
      "  algorithm_globals.random_seed = seed\n",
      "/tmp/ipykernel_21283/3260333131.py:42: DeprecationWarning: The class ``qiskit.utils.quantum_instance.QuantumInstance`` is deprecated as of qiskit-terra 0.24.0. It will be removed no earlier than 3 months after the release date. For code migration guidelines, visit https://qisk.it/qi_migration.\n",
      "  dse_backend = QuantumInstance(\n"
     ]
    },
    {
     "name": "stdout",
     "output_type": "stream",
     "text": [
      "qsvm classification test score: 0.868421052631579\n",
      "for size 200\n",
      "svm classification score: 0.68\n"
     ]
    },
    {
     "name": "stderr",
     "output_type": "stream",
     "text": [
      "/tmp/ipykernel_21283/3260333131.py:38: DeprecationWarning: The property ``qiskit.utils.algorithm_globals.QiskitAlgorithmGlobals.random_seed`` is deprecated as of qiskit 0.45.0. It will be removed no earlier than 3 months after the release date. This algorithm utility has been migrated to an independent package: https://github.com/qiskit-community/qiskit-algorithms. You can run ``pip install qiskit_algorithms`` and import ``from qiskit_algorithms.utils`` instead. \n",
      "  algorithm_globals.random_seed = seed\n",
      "/tmp/ipykernel_21283/3260333131.py:42: DeprecationWarning: The class ``qiskit.utils.quantum_instance.QuantumInstance`` is deprecated as of qiskit-terra 0.24.0. It will be removed no earlier than 3 months after the release date. For code migration guidelines, visit https://qisk.it/qi_migration.\n",
      "  dse_backend = QuantumInstance(\n"
     ]
    },
    {
     "name": "stdout",
     "output_type": "stream",
     "text": [
      "qsvm classification test score: 0.68\n",
      "for size 250\n",
      "svm classification score: 0.6825396825396826\n"
     ]
    },
    {
     "name": "stderr",
     "output_type": "stream",
     "text": [
      "/tmp/ipykernel_21283/3260333131.py:38: DeprecationWarning: The property ``qiskit.utils.algorithm_globals.QiskitAlgorithmGlobals.random_seed`` is deprecated as of qiskit 0.45.0. It will be removed no earlier than 3 months after the release date. This algorithm utility has been migrated to an independent package: https://github.com/qiskit-community/qiskit-algorithms. You can run ``pip install qiskit_algorithms`` and import ``from qiskit_algorithms.utils`` instead. \n",
      "  algorithm_globals.random_seed = seed\n",
      "/tmp/ipykernel_21283/3260333131.py:42: DeprecationWarning: The class ``qiskit.utils.quantum_instance.QuantumInstance`` is deprecated as of qiskit-terra 0.24.0. It will be removed no earlier than 3 months after the release date. For code migration guidelines, visit https://qisk.it/qi_migration.\n",
      "  dse_backend = QuantumInstance(\n"
     ]
    },
    {
     "name": "stdout",
     "output_type": "stream",
     "text": [
      "qsvm classification test score: 0.6825396825396826\n",
      "=============================================\n"
     ]
    }
   ],
   "source": [
    "sz = [50,100,150,200,250]\n",
    "\n",
    "import random\n",
    "total = 5\n",
    "for cnt in range(total):\n",
    "    print(\"current iteration: \", cnt+1)\n",
    "    for idx in range(len(sz)):\n",
    "        data_size = sz[idx]\n",
    "        print(\"for size\", data_size)\n",
    "        st = random.randint(0, 300-data_size)\n",
    "        x = df.iloc[st:st+data_size, 0:-1]\n",
    "        y = df.iloc[st:st+data_size, -1]\n",
    "        # spltting the dataset into train and test set\n",
    "        from sklearn.model_selection import train_test_split\n",
    "        x_train, x_test, y_train, y_test = train_test_split(x, y, test_size = 0.25, random_state = 31)\n",
    "        from sklearn import svm\n",
    "        svc_clf = svm.SVC(random_state = 7)\n",
    "        svc_clf.fit(x_train, y_train)\n",
    "        svc_score = svc_clf.score(x_test, y_test)\n",
    "        print(f\"svm classification score: {svc_score}\")\n",
    "        svm_acc[idx] = svm_acc[idx] + svc_score\n",
    "        import qiskit\n",
    "        import matplotlib.pyplot as plt\n",
    "        import numpy as np\n",
    "\n",
    "        from sklearn.svm import SVC\n",
    "        from sklearn.cluster import SpectralClustering\n",
    "        from sklearn.metrics import normalized_mutual_info_score\n",
    "\n",
    "        from qiskit import BasicAer\n",
    "        from qiskit.circuit.library import ZZFeatureMap\n",
    "        from qiskit.utils import QuantumInstance, algorithm_globals\n",
    "        from qiskit_machine_learning.algorithms import QSVC\n",
    "        from qiskit_machine_learning.kernels import QuantumKernel\n",
    "        from qiskit_machine_learning.datasets import ad_hoc_data\n",
    "\n",
    "        seed = 12345\n",
    "        algorithm_globals.random_seed = seed\n",
    "        # Building Kernel\n",
    "        dse_feature_map = ZZFeatureMap(feature_dimension=7, reps=2, entanglement=\"linear\")\n",
    "\n",
    "        dse_backend = QuantumInstance(\n",
    "            BasicAer.get_backend('qasm_simulator'), shots=1024, seed_simulator=seed, seed_transpiler=seed\n",
    "        )\n",
    "\n",
    "        dse_kernel = QuantumKernel(feature_map=dse_feature_map, quantum_instance=dse_backend)\n",
    "        dse_svc = SVC(kernel=dse_kernel.evaluate)\n",
    "        dse_svc.fit(x_train, y_train)\n",
    "        dse_score = dse_svc.score(x_test, y_test)\n",
    "\n",
    "        print(f\"qsvm classification test score: {dse_score}\")\n",
    "        qsvm_acc[idx] = qsvm_acc[idx] + dse_score\n",
    "    print(\"=============================================\")"
   ]
  },
  {
   "cell_type": "code",
   "execution_count": 15,
   "id": "a2ba9ef9-38b8-4881-9106-f36a2d5c6de5",
   "metadata": {
    "tags": []
   },
   "outputs": [
    {
     "name": "stdout",
     "output_type": "stream",
     "text": [
      "0 0.6089743589743589 \t\t 0.6089743589743589\n",
      "1 0.69 \t\t 0.6683333333333333\n",
      "2 0.7084795321637426 \t\t 0.704093567251462\n",
      "3 0.7275 \t\t 0.7233333333333333\n",
      "4 0.7046560846560848 \t\t 0.7013227513227513\n"
     ]
    }
   ],
   "source": [
    "for idx in range(len(sz)):\n",
    "    print(idx, svm_acc[idx]/6, '\\t\\t', qsvm_acc[idx]/6)"
   ]
  },
  {
   "cell_type": "code",
   "execution_count": null,
   "id": "3e0de073-1153-4a58-9579-4ded9146bce1",
   "metadata": {},
   "outputs": [],
   "source": []
  }
 ],
 "metadata": {
  "kernelspec": {
   "display_name": "Qiskit v0.45.3 (ipykernel)",
   "language": "python",
   "name": "python3"
  },
  "language_info": {
   "codemirror_mode": {
    "name": "ipython",
    "version": 3
   },
   "file_extension": ".py",
   "mimetype": "text/x-python",
   "name": "python",
   "nbconvert_exporter": "python",
   "pygments_lexer": "ipython3",
   "version": "3.10.8"
  },
  "widgets": {
   "application/vnd.jupyter.widget-state+json": {
    "state": {},
    "version_major": 2,
    "version_minor": 0
   }
  }
 },
 "nbformat": 4,
 "nbformat_minor": 5
}
