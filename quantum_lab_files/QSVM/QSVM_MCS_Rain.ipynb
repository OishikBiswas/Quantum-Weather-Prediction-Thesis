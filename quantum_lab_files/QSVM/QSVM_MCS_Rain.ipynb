{
 "cells": [
  {
   "cell_type": "code",
   "execution_count": 1,
   "id": "1a3621cb-9ba0-4d5f-a7c2-638084de0b54",
   "metadata": {
    "tags": []
   },
   "outputs": [
    {
     "name": "stdout",
     "output_type": "stream",
     "text": [
      "Requirement already satisfied: qiskit in /opt/conda/lib/python3.10/site-packages (1.0.1)\n",
      "Requirement already satisfied: rustworkx>=0.14.0 in /opt/conda/lib/python3.10/site-packages (from qiskit) (0.14.0)\n",
      "Requirement already satisfied: numpy<2,>=1.17 in /opt/conda/lib/python3.10/site-packages (from qiskit) (1.23.5)\n",
      "Requirement already satisfied: scipy>=1.5 in /opt/conda/lib/python3.10/site-packages (from qiskit) (1.12.0)\n",
      "Requirement already satisfied: sympy>=1.3 in /opt/conda/lib/python3.10/site-packages (from qiskit) (1.11.1)\n",
      "Requirement already satisfied: dill>=0.3 in /opt/conda/lib/python3.10/site-packages (from qiskit) (0.3.6)\n",
      "Requirement already satisfied: python-dateutil>=2.8.0 in /opt/conda/lib/python3.10/site-packages (from qiskit) (2.8.2)\n",
      "Requirement already satisfied: stevedore>=3.0.0 in /opt/conda/lib/python3.10/site-packages (from qiskit) (5.1.0)\n",
      "Requirement already satisfied: typing-extensions in /opt/conda/lib/python3.10/site-packages (from qiskit) (4.9.0)\n",
      "Requirement already satisfied: symengine>=0.11 in /opt/conda/lib/python3.10/site-packages (from qiskit) (0.11.0)\n",
      "Requirement already satisfied: six>=1.5 in /opt/conda/lib/python3.10/site-packages (from python-dateutil>=2.8.0->qiskit) (1.16.0)\n",
      "Requirement already satisfied: pbr!=2.1.0,>=2.0.0 in /opt/conda/lib/python3.10/site-packages (from stevedore>=3.0.0->qiskit) (6.0.0)\n",
      "Requirement already satisfied: mpmath>=0.19 in /opt/conda/lib/python3.10/site-packages (from sympy>=1.3->qiskit) (1.2.1)\n"
     ]
    }
   ],
   "source": [
    "! pip install qiskit"
   ]
  },
  {
   "cell_type": "code",
   "execution_count": 2,
   "id": "d100eed9-e3f0-4725-a0f8-e86bf8542a11",
   "metadata": {},
   "outputs": [
    {
     "name": "stdout",
     "output_type": "stream",
     "text": [
      "Requirement already satisfied: qiskit-machine-learning in /opt/conda/lib/python3.10/site-packages (0.7.2)\n",
      "Requirement already satisfied: qiskit>=0.44 in /opt/conda/lib/python3.10/site-packages (from qiskit-machine-learning) (1.0.1)\n",
      "Requirement already satisfied: qiskit-algorithms>=0.2.0 in /opt/conda/lib/python3.10/site-packages (from qiskit-machine-learning) (0.3.0)\n",
      "Requirement already satisfied: scipy>=1.4 in /opt/conda/lib/python3.10/site-packages (from qiskit-machine-learning) (1.12.0)\n",
      "Requirement already satisfied: numpy>=1.17 in /opt/conda/lib/python3.10/site-packages (from qiskit-machine-learning) (1.23.5)\n",
      "Requirement already satisfied: psutil>=5 in /opt/conda/lib/python3.10/site-packages (from qiskit-machine-learning) (5.9.4)\n",
      "Requirement already satisfied: scikit-learn>=1.2.0 in /opt/conda/lib/python3.10/site-packages (from qiskit-machine-learning) (1.4.1.post1)\n",
      "Requirement already satisfied: fastdtw in /opt/conda/lib/python3.10/site-packages (from qiskit-machine-learning) (0.3.4)\n",
      "Requirement already satisfied: setuptools>=40.1.0 in /opt/conda/lib/python3.10/site-packages (from qiskit-machine-learning) (65.5.1)\n",
      "Requirement already satisfied: dill>=0.3.4 in /opt/conda/lib/python3.10/site-packages (from qiskit-machine-learning) (0.3.6)\n",
      "Requirement already satisfied: rustworkx>=0.14.0 in /opt/conda/lib/python3.10/site-packages (from qiskit>=0.44->qiskit-machine-learning) (0.14.0)\n",
      "Requirement already satisfied: sympy>=1.3 in /opt/conda/lib/python3.10/site-packages (from qiskit>=0.44->qiskit-machine-learning) (1.11.1)\n",
      "Requirement already satisfied: python-dateutil>=2.8.0 in /opt/conda/lib/python3.10/site-packages (from qiskit>=0.44->qiskit-machine-learning) (2.8.2)\n",
      "Requirement already satisfied: stevedore>=3.0.0 in /opt/conda/lib/python3.10/site-packages (from qiskit>=0.44->qiskit-machine-learning) (5.1.0)\n",
      "Requirement already satisfied: typing-extensions in /opt/conda/lib/python3.10/site-packages (from qiskit>=0.44->qiskit-machine-learning) (4.9.0)\n",
      "Requirement already satisfied: symengine>=0.11 in /opt/conda/lib/python3.10/site-packages (from qiskit>=0.44->qiskit-machine-learning) (0.11.0)\n",
      "Requirement already satisfied: joblib>=1.2.0 in /opt/conda/lib/python3.10/site-packages (from scikit-learn>=1.2.0->qiskit-machine-learning) (1.2.0)\n",
      "Requirement already satisfied: threadpoolctl>=2.0.0 in /opt/conda/lib/python3.10/site-packages (from scikit-learn>=1.2.0->qiskit-machine-learning) (3.1.0)\n",
      "Requirement already satisfied: six>=1.5 in /opt/conda/lib/python3.10/site-packages (from python-dateutil>=2.8.0->qiskit>=0.44->qiskit-machine-learning) (1.16.0)\n",
      "Requirement already satisfied: pbr!=2.1.0,>=2.0.0 in /opt/conda/lib/python3.10/site-packages (from stevedore>=3.0.0->qiskit>=0.44->qiskit-machine-learning) (6.0.0)\n",
      "Requirement already satisfied: mpmath>=0.19 in /opt/conda/lib/python3.10/site-packages (from sympy>=1.3->qiskit>=0.44->qiskit-machine-learning) (1.2.1)\n"
     ]
    }
   ],
   "source": [
    "! pip install qiskit-machine-learning"
   ]
  },
  {
   "cell_type": "code",
   "execution_count": 3,
   "id": "5f716dfa-5649-431f-92ae-a5b1737dbeae",
   "metadata": {},
   "outputs": [
    {
     "name": "stderr",
     "output_type": "stream",
     "text": [
      "/opt/conda/lib/python3.10/site-packages/pandas/core/computation/expressions.py:21: UserWarning: Pandas requires version '2.8.4' or newer of 'numexpr' (version '2.8.3' currently installed).\n",
      "  from pandas.core.computation.check import NUMEXPR_INSTALLED\n",
      "/opt/conda/lib/python3.10/site-packages/pandas/core/arrays/masked.py:60: UserWarning: Pandas requires version '1.3.6' or newer of 'bottleneck' (version '1.3.5' currently installed).\n",
      "  from pandas.core import (\n"
     ]
    }
   ],
   "source": [
    "import pickle\n",
    "\n",
    "import numpy as np\n",
    "import pandas as pd\n",
    "import matplotlib.pyplot as plt\n",
    "import seaborn as sns\n",
    "%matplotlib inline\n",
    "\n",
    "from qiskit import *\n",
    "\n",
    "# External imports\n",
    "from pylab import cm\n",
    "from sklearn import metrics\n",
    "import numpy as np\n",
    "import matplotlib.pyplot as plt\n",
    "\n",
    "# Qiskit imports\n",
    "from qiskit import QuantumCircuit\n",
    "from qiskit.circuit import ParameterVector\n",
    "from qiskit.visualization import circuit_drawer\n",
    "#from qiskit.algorithms.optimizers import SPSA\n",
    "\n",
    "from qiskit.circuit.library import PauliFeatureMap\n",
    "from qiskit.circuit.library import ZZFeatureMap\n",
    "from qiskit_machine_learning.kernels import TrainableFidelityQuantumKernel\n",
    "from qiskit_machine_learning.kernels.algorithms import QuantumKernelTrainer\n",
    "from qiskit_machine_learning.algorithms import QSVC\n",
    "from qiskit_machine_learning.datasets import ad_hoc_data\n",
    "\n",
    "#from qiskit.utils import QuantumInstance\n",
    "#from qiskit_machine_learning.kernels import QuantumKernel\n",
    "\n",
    "import random\n",
    "import time\n",
    "from sklearn.model_selection import train_test_split\n",
    "from sklearn import svm\n",
    "from sklearn import metrics\n",
    "from sklearn.metrics import f1_score\n",
    "from sklearn.metrics import accuracy_score"
   ]
  },
  {
   "cell_type": "code",
   "execution_count": 4,
   "id": "09c6cf56-438f-4f11-8bb8-7ca2004772da",
   "metadata": {},
   "outputs": [
    {
     "data": {
      "text/html": [
       "<div>\n",
       "<style scoped>\n",
       "    .dataframe tbody tr th:only-of-type {\n",
       "        vertical-align: middle;\n",
       "    }\n",
       "\n",
       "    .dataframe tbody tr th {\n",
       "        vertical-align: top;\n",
       "    }\n",
       "\n",
       "    .dataframe thead th {\n",
       "        text-align: right;\n",
       "    }\n",
       "</style>\n",
       "<table border=\"1\" class=\"dataframe\">\n",
       "  <thead>\n",
       "    <tr style=\"text-align: right;\">\n",
       "      <th></th>\n",
       "      <th>Date</th>\n",
       "      <th>Time</th>\n",
       "      <th>Temperature(C)</th>\n",
       "      <th>Feels Like(C)</th>\n",
       "      <th>Chance of Prec.(%)</th>\n",
       "      <th>Humidity(%)</th>\n",
       "      <th>Visibity(km)</th>\n",
       "      <th>Dew Point</th>\n",
       "      <th>Pressure(hPa)</th>\n",
       "      <th>Predicted_State</th>\n",
       "      <th>Real State</th>\n",
       "      <th>Rain</th>\n",
       "      <th>Cloudy</th>\n",
       "      <th>Sunny</th>\n",
       "      <th>Fog</th>\n",
       "    </tr>\n",
       "  </thead>\n",
       "  <tbody>\n",
       "    <tr>\n",
       "      <th>0</th>\n",
       "      <td>27-06-2023</td>\n",
       "      <td>08:00</td>\n",
       "      <td>26</td>\n",
       "      <td>31</td>\n",
       "      <td>62</td>\n",
       "      <td>91</td>\n",
       "      <td>4.0</td>\n",
       "      <td>25</td>\n",
       "      <td>1003</td>\n",
       "      <td>Mostly Cloudy</td>\n",
       "      <td>Cloudy</td>\n",
       "      <td>0</td>\n",
       "      <td>1</td>\n",
       "      <td>0</td>\n",
       "      <td>0</td>\n",
       "    </tr>\n",
       "    <tr>\n",
       "      <th>1</th>\n",
       "      <td>27-06-2023</td>\n",
       "      <td>09:00</td>\n",
       "      <td>27</td>\n",
       "      <td>33</td>\n",
       "      <td>66</td>\n",
       "      <td>88</td>\n",
       "      <td>4.0</td>\n",
       "      <td>25</td>\n",
       "      <td>1004</td>\n",
       "      <td>Mostly Cloudy</td>\n",
       "      <td>Cloudy</td>\n",
       "      <td>0</td>\n",
       "      <td>1</td>\n",
       "      <td>0</td>\n",
       "      <td>0</td>\n",
       "    </tr>\n",
       "    <tr>\n",
       "      <th>2</th>\n",
       "      <td>27-06-2023</td>\n",
       "      <td>10:00</td>\n",
       "      <td>27</td>\n",
       "      <td>33</td>\n",
       "      <td>66</td>\n",
       "      <td>88</td>\n",
       "      <td>4.0</td>\n",
       "      <td>25</td>\n",
       "      <td>1004</td>\n",
       "      <td>Mostly Cloudy</td>\n",
       "      <td>Rain</td>\n",
       "      <td>1</td>\n",
       "      <td>1</td>\n",
       "      <td>0</td>\n",
       "      <td>0</td>\n",
       "    </tr>\n",
       "    <tr>\n",
       "      <th>3</th>\n",
       "      <td>27-06-2023</td>\n",
       "      <td>11:00</td>\n",
       "      <td>28</td>\n",
       "      <td>33</td>\n",
       "      <td>66</td>\n",
       "      <td>88</td>\n",
       "      <td>4.0</td>\n",
       "      <td>25</td>\n",
       "      <td>1004</td>\n",
       "      <td>Mostly Cloudy</td>\n",
       "      <td>Rain</td>\n",
       "      <td>1</td>\n",
       "      <td>1</td>\n",
       "      <td>0</td>\n",
       "      <td>0</td>\n",
       "    </tr>\n",
       "    <tr>\n",
       "      <th>4</th>\n",
       "      <td>27-06-2023</td>\n",
       "      <td>12:00</td>\n",
       "      <td>29</td>\n",
       "      <td>36</td>\n",
       "      <td>65</td>\n",
       "      <td>93</td>\n",
       "      <td>1.6</td>\n",
       "      <td>28</td>\n",
       "      <td>1005</td>\n",
       "      <td>Cloudy</td>\n",
       "      <td>Sunny</td>\n",
       "      <td>0</td>\n",
       "      <td>0</td>\n",
       "      <td>1</td>\n",
       "      <td>0</td>\n",
       "    </tr>\n",
       "  </tbody>\n",
       "</table>\n",
       "</div>"
      ],
      "text/plain": [
       "         Date   Time  Temperature(C)  Feels Like(C)  Chance of Prec.(%)  \\\n",
       "0  27-06-2023  08:00              26             31                  62   \n",
       "1  27-06-2023  09:00              27             33                  66   \n",
       "2  27-06-2023  10:00              27             33                  66   \n",
       "3  27-06-2023  11:00              28             33                  66   \n",
       "4  27-06-2023  12:00              29             36                  65   \n",
       "\n",
       "   Humidity(%)  Visibity(km)  Dew Point  Pressure(hPa) Predicted_State  \\\n",
       "0           91           4.0         25           1003   Mostly Cloudy   \n",
       "1           88           4.0         25           1004   Mostly Cloudy   \n",
       "2           88           4.0         25           1004   Mostly Cloudy   \n",
       "3           88           4.0         25           1004   Mostly Cloudy   \n",
       "4           93           1.6         28           1005          Cloudy   \n",
       "\n",
       "  Real State  Rain  Cloudy  Sunny  Fog  \n",
       "0     Cloudy     0       1      0    0  \n",
       "1     Cloudy     0       1      0    0  \n",
       "2       Rain     1       1      0    0  \n",
       "3       Rain     1       1      0    0  \n",
       "4      Sunny     0       0      1    0  "
      ]
     },
     "execution_count": 4,
     "metadata": {},
     "output_type": "execute_result"
    }
   ],
   "source": [
    "df = pd.read_csv('Thesis MCS Final Dataset.csv')\n",
    "df.head()"
   ]
  },
  {
   "cell_type": "code",
   "execution_count": 5,
   "id": "14874a1c-a1cc-4e94-8182-eb2b5317a164",
   "metadata": {},
   "outputs": [
    {
     "data": {
      "text/html": [
       "<div>\n",
       "<style scoped>\n",
       "    .dataframe tbody tr th:only-of-type {\n",
       "        vertical-align: middle;\n",
       "    }\n",
       "\n",
       "    .dataframe tbody tr th {\n",
       "        vertical-align: top;\n",
       "    }\n",
       "\n",
       "    .dataframe thead th {\n",
       "        text-align: right;\n",
       "    }\n",
       "</style>\n",
       "<table border=\"1\" class=\"dataframe\">\n",
       "  <thead>\n",
       "    <tr style=\"text-align: right;\">\n",
       "      <th></th>\n",
       "      <th>Time</th>\n",
       "      <th>Temperature(C)</th>\n",
       "      <th>Feels Like(C)</th>\n",
       "      <th>Chance of Prec.(%)</th>\n",
       "      <th>Humidity(%)</th>\n",
       "      <th>Visibity(km)</th>\n",
       "      <th>Dew Point</th>\n",
       "      <th>Pressure(hPa)</th>\n",
       "      <th>Predicted_State</th>\n",
       "      <th>Real State</th>\n",
       "      <th>Rain</th>\n",
       "      <th>Cloudy</th>\n",
       "      <th>Sunny</th>\n",
       "      <th>Fog</th>\n",
       "    </tr>\n",
       "  </thead>\n",
       "  <tbody>\n",
       "    <tr>\n",
       "      <th>0</th>\n",
       "      <td>08:00</td>\n",
       "      <td>26</td>\n",
       "      <td>31</td>\n",
       "      <td>62</td>\n",
       "      <td>91</td>\n",
       "      <td>4.0</td>\n",
       "      <td>25</td>\n",
       "      <td>1003</td>\n",
       "      <td>Mostly Cloudy</td>\n",
       "      <td>Cloudy</td>\n",
       "      <td>0</td>\n",
       "      <td>1</td>\n",
       "      <td>0</td>\n",
       "      <td>0</td>\n",
       "    </tr>\n",
       "    <tr>\n",
       "      <th>1</th>\n",
       "      <td>09:00</td>\n",
       "      <td>27</td>\n",
       "      <td>33</td>\n",
       "      <td>66</td>\n",
       "      <td>88</td>\n",
       "      <td>4.0</td>\n",
       "      <td>25</td>\n",
       "      <td>1004</td>\n",
       "      <td>Mostly Cloudy</td>\n",
       "      <td>Cloudy</td>\n",
       "      <td>0</td>\n",
       "      <td>1</td>\n",
       "      <td>0</td>\n",
       "      <td>0</td>\n",
       "    </tr>\n",
       "    <tr>\n",
       "      <th>2</th>\n",
       "      <td>10:00</td>\n",
       "      <td>27</td>\n",
       "      <td>33</td>\n",
       "      <td>66</td>\n",
       "      <td>88</td>\n",
       "      <td>4.0</td>\n",
       "      <td>25</td>\n",
       "      <td>1004</td>\n",
       "      <td>Mostly Cloudy</td>\n",
       "      <td>Rain</td>\n",
       "      <td>1</td>\n",
       "      <td>1</td>\n",
       "      <td>0</td>\n",
       "      <td>0</td>\n",
       "    </tr>\n",
       "    <tr>\n",
       "      <th>3</th>\n",
       "      <td>11:00</td>\n",
       "      <td>28</td>\n",
       "      <td>33</td>\n",
       "      <td>66</td>\n",
       "      <td>88</td>\n",
       "      <td>4.0</td>\n",
       "      <td>25</td>\n",
       "      <td>1004</td>\n",
       "      <td>Mostly Cloudy</td>\n",
       "      <td>Rain</td>\n",
       "      <td>1</td>\n",
       "      <td>1</td>\n",
       "      <td>0</td>\n",
       "      <td>0</td>\n",
       "    </tr>\n",
       "    <tr>\n",
       "      <th>4</th>\n",
       "      <td>12:00</td>\n",
       "      <td>29</td>\n",
       "      <td>36</td>\n",
       "      <td>65</td>\n",
       "      <td>93</td>\n",
       "      <td>1.6</td>\n",
       "      <td>28</td>\n",
       "      <td>1005</td>\n",
       "      <td>Cloudy</td>\n",
       "      <td>Sunny</td>\n",
       "      <td>0</td>\n",
       "      <td>0</td>\n",
       "      <td>1</td>\n",
       "      <td>0</td>\n",
       "    </tr>\n",
       "    <tr>\n",
       "      <th>...</th>\n",
       "      <td>...</td>\n",
       "      <td>...</td>\n",
       "      <td>...</td>\n",
       "      <td>...</td>\n",
       "      <td>...</td>\n",
       "      <td>...</td>\n",
       "      <td>...</td>\n",
       "      <td>...</td>\n",
       "      <td>...</td>\n",
       "      <td>...</td>\n",
       "      <td>...</td>\n",
       "      <td>...</td>\n",
       "      <td>...</td>\n",
       "      <td>...</td>\n",
       "    </tr>\n",
       "    <tr>\n",
       "      <th>4499</th>\n",
       "      <td>19:00</td>\n",
       "      <td>20</td>\n",
       "      <td>20</td>\n",
       "      <td>1</td>\n",
       "      <td>77</td>\n",
       "      <td>8.0</td>\n",
       "      <td>15</td>\n",
       "      <td>1014</td>\n",
       "      <td>Clear</td>\n",
       "      <td>Clear</td>\n",
       "      <td>0</td>\n",
       "      <td>0</td>\n",
       "      <td>1</td>\n",
       "      <td>0</td>\n",
       "    </tr>\n",
       "    <tr>\n",
       "      <th>4500</th>\n",
       "      <td>20:00</td>\n",
       "      <td>19</td>\n",
       "      <td>19</td>\n",
       "      <td>1</td>\n",
       "      <td>80</td>\n",
       "      <td>14.0</td>\n",
       "      <td>13</td>\n",
       "      <td>1015</td>\n",
       "      <td>Clear</td>\n",
       "      <td>Clear</td>\n",
       "      <td>0</td>\n",
       "      <td>0</td>\n",
       "      <td>1</td>\n",
       "      <td>0</td>\n",
       "    </tr>\n",
       "    <tr>\n",
       "      <th>4501</th>\n",
       "      <td>21:00</td>\n",
       "      <td>19</td>\n",
       "      <td>19</td>\n",
       "      <td>2</td>\n",
       "      <td>82</td>\n",
       "      <td>14.0</td>\n",
       "      <td>13</td>\n",
       "      <td>1015</td>\n",
       "      <td>Clear</td>\n",
       "      <td>Clear</td>\n",
       "      <td>0</td>\n",
       "      <td>0</td>\n",
       "      <td>1</td>\n",
       "      <td>0</td>\n",
       "    </tr>\n",
       "    <tr>\n",
       "      <th>4502</th>\n",
       "      <td>22:00</td>\n",
       "      <td>18</td>\n",
       "      <td>18</td>\n",
       "      <td>2</td>\n",
       "      <td>83</td>\n",
       "      <td>14.0</td>\n",
       "      <td>12</td>\n",
       "      <td>1015</td>\n",
       "      <td>Clear</td>\n",
       "      <td>Clear</td>\n",
       "      <td>0</td>\n",
       "      <td>0</td>\n",
       "      <td>1</td>\n",
       "      <td>0</td>\n",
       "    </tr>\n",
       "    <tr>\n",
       "      <th>4503</th>\n",
       "      <td>23:00</td>\n",
       "      <td>18</td>\n",
       "      <td>18</td>\n",
       "      <td>2</td>\n",
       "      <td>84</td>\n",
       "      <td>14.0</td>\n",
       "      <td>11</td>\n",
       "      <td>1015</td>\n",
       "      <td>Clear</td>\n",
       "      <td>Clear</td>\n",
       "      <td>0</td>\n",
       "      <td>0</td>\n",
       "      <td>1</td>\n",
       "      <td>0</td>\n",
       "    </tr>\n",
       "  </tbody>\n",
       "</table>\n",
       "<p>4504 rows × 14 columns</p>\n",
       "</div>"
      ],
      "text/plain": [
       "       Time  Temperature(C)  Feels Like(C)  Chance of Prec.(%)  Humidity(%)  \\\n",
       "0     08:00              26             31                  62           91   \n",
       "1     09:00              27             33                  66           88   \n",
       "2     10:00              27             33                  66           88   \n",
       "3     11:00              28             33                  66           88   \n",
       "4     12:00              29             36                  65           93   \n",
       "...     ...             ...            ...                 ...          ...   \n",
       "4499  19:00              20             20                   1           77   \n",
       "4500  20:00              19             19                   1           80   \n",
       "4501  21:00              19             19                   2           82   \n",
       "4502  22:00              18             18                   2           83   \n",
       "4503  23:00              18             18                   2           84   \n",
       "\n",
       "      Visibity(km)  Dew Point  Pressure(hPa) Predicted_State Real State  Rain  \\\n",
       "0              4.0         25           1003   Mostly Cloudy     Cloudy     0   \n",
       "1              4.0         25           1004   Mostly Cloudy     Cloudy     0   \n",
       "2              4.0         25           1004   Mostly Cloudy       Rain     1   \n",
       "3              4.0         25           1004   Mostly Cloudy       Rain     1   \n",
       "4              1.6         28           1005          Cloudy      Sunny     0   \n",
       "...            ...        ...            ...             ...        ...   ...   \n",
       "4499           8.0         15           1014           Clear      Clear     0   \n",
       "4500          14.0         13           1015           Clear      Clear     0   \n",
       "4501          14.0         13           1015           Clear      Clear     0   \n",
       "4502          14.0         12           1015           Clear      Clear     0   \n",
       "4503          14.0         11           1015           Clear      Clear     0   \n",
       "\n",
       "      Cloudy  Sunny  Fog  \n",
       "0          1      0    0  \n",
       "1          1      0    0  \n",
       "2          1      0    0  \n",
       "3          1      0    0  \n",
       "4          0      1    0  \n",
       "...      ...    ...  ...  \n",
       "4499       0      1    0  \n",
       "4500       0      1    0  \n",
       "4501       0      1    0  \n",
       "4502       0      1    0  \n",
       "4503       0      1    0  \n",
       "\n",
       "[4504 rows x 14 columns]"
      ]
     },
     "execution_count": 5,
     "metadata": {},
     "output_type": "execute_result"
    }
   ],
   "source": [
    "df.drop(columns=['Date'], inplace=True)\n",
    "#df.drop(columns=['Temperature(C)'], inplace=True)\n",
    "df"
   ]
  },
  {
   "cell_type": "code",
   "execution_count": 6,
   "id": "5dbaf009-5157-4e33-857a-62a2c58153cd",
   "metadata": {},
   "outputs": [
    {
     "data": {
      "text/html": [
       "<div>\n",
       "<style scoped>\n",
       "    .dataframe tbody tr th:only-of-type {\n",
       "        vertical-align: middle;\n",
       "    }\n",
       "\n",
       "    .dataframe tbody tr th {\n",
       "        vertical-align: top;\n",
       "    }\n",
       "\n",
       "    .dataframe thead th {\n",
       "        text-align: right;\n",
       "    }\n",
       "</style>\n",
       "<table border=\"1\" class=\"dataframe\">\n",
       "  <thead>\n",
       "    <tr style=\"text-align: right;\">\n",
       "      <th></th>\n",
       "      <th>Time</th>\n",
       "      <th>Temperature(C)</th>\n",
       "      <th>Feels Like(C)</th>\n",
       "      <th>Chance of Prec.(%)</th>\n",
       "      <th>Humidity(%)</th>\n",
       "      <th>Visibity(km)</th>\n",
       "      <th>Dew Point</th>\n",
       "      <th>Pressure(hPa)</th>\n",
       "      <th>Predicted_State</th>\n",
       "      <th>Real State</th>\n",
       "      <th>Rain</th>\n",
       "      <th>Cloudy</th>\n",
       "      <th>Sunny</th>\n",
       "      <th>Fog</th>\n",
       "    </tr>\n",
       "  </thead>\n",
       "  <tbody>\n",
       "    <tr>\n",
       "      <th>0</th>\n",
       "      <td>08:00</td>\n",
       "      <td>26</td>\n",
       "      <td>31</td>\n",
       "      <td>62</td>\n",
       "      <td>91</td>\n",
       "      <td>4.0</td>\n",
       "      <td>25</td>\n",
       "      <td>1003</td>\n",
       "      <td>Mostly Cloudy</td>\n",
       "      <td>Cloudy</td>\n",
       "      <td>0</td>\n",
       "      <td>1</td>\n",
       "      <td>0</td>\n",
       "      <td>0</td>\n",
       "    </tr>\n",
       "    <tr>\n",
       "      <th>1</th>\n",
       "      <td>09:00</td>\n",
       "      <td>27</td>\n",
       "      <td>33</td>\n",
       "      <td>66</td>\n",
       "      <td>88</td>\n",
       "      <td>4.0</td>\n",
       "      <td>25</td>\n",
       "      <td>1004</td>\n",
       "      <td>Mostly Cloudy</td>\n",
       "      <td>Cloudy</td>\n",
       "      <td>0</td>\n",
       "      <td>1</td>\n",
       "      <td>0</td>\n",
       "      <td>0</td>\n",
       "    </tr>\n",
       "    <tr>\n",
       "      <th>2</th>\n",
       "      <td>10:00</td>\n",
       "      <td>27</td>\n",
       "      <td>33</td>\n",
       "      <td>66</td>\n",
       "      <td>88</td>\n",
       "      <td>4.0</td>\n",
       "      <td>25</td>\n",
       "      <td>1004</td>\n",
       "      <td>Mostly Cloudy</td>\n",
       "      <td>Rain</td>\n",
       "      <td>1</td>\n",
       "      <td>1</td>\n",
       "      <td>0</td>\n",
       "      <td>0</td>\n",
       "    </tr>\n",
       "    <tr>\n",
       "      <th>3</th>\n",
       "      <td>11:00</td>\n",
       "      <td>28</td>\n",
       "      <td>33</td>\n",
       "      <td>66</td>\n",
       "      <td>88</td>\n",
       "      <td>4.0</td>\n",
       "      <td>25</td>\n",
       "      <td>1004</td>\n",
       "      <td>Mostly Cloudy</td>\n",
       "      <td>Rain</td>\n",
       "      <td>1</td>\n",
       "      <td>1</td>\n",
       "      <td>0</td>\n",
       "      <td>0</td>\n",
       "    </tr>\n",
       "    <tr>\n",
       "      <th>4</th>\n",
       "      <td>12:00</td>\n",
       "      <td>29</td>\n",
       "      <td>36</td>\n",
       "      <td>65</td>\n",
       "      <td>93</td>\n",
       "      <td>1.6</td>\n",
       "      <td>28</td>\n",
       "      <td>1005</td>\n",
       "      <td>Cloudy</td>\n",
       "      <td>Sunny</td>\n",
       "      <td>0</td>\n",
       "      <td>0</td>\n",
       "      <td>1</td>\n",
       "      <td>0</td>\n",
       "    </tr>\n",
       "    <tr>\n",
       "      <th>...</th>\n",
       "      <td>...</td>\n",
       "      <td>...</td>\n",
       "      <td>...</td>\n",
       "      <td>...</td>\n",
       "      <td>...</td>\n",
       "      <td>...</td>\n",
       "      <td>...</td>\n",
       "      <td>...</td>\n",
       "      <td>...</td>\n",
       "      <td>...</td>\n",
       "      <td>...</td>\n",
       "      <td>...</td>\n",
       "      <td>...</td>\n",
       "      <td>...</td>\n",
       "    </tr>\n",
       "    <tr>\n",
       "      <th>4499</th>\n",
       "      <td>19:00</td>\n",
       "      <td>20</td>\n",
       "      <td>20</td>\n",
       "      <td>1</td>\n",
       "      <td>77</td>\n",
       "      <td>8.0</td>\n",
       "      <td>15</td>\n",
       "      <td>1014</td>\n",
       "      <td>Clear</td>\n",
       "      <td>Clear</td>\n",
       "      <td>0</td>\n",
       "      <td>0</td>\n",
       "      <td>1</td>\n",
       "      <td>0</td>\n",
       "    </tr>\n",
       "    <tr>\n",
       "      <th>4500</th>\n",
       "      <td>20:00</td>\n",
       "      <td>19</td>\n",
       "      <td>19</td>\n",
       "      <td>1</td>\n",
       "      <td>80</td>\n",
       "      <td>14.0</td>\n",
       "      <td>13</td>\n",
       "      <td>1015</td>\n",
       "      <td>Clear</td>\n",
       "      <td>Clear</td>\n",
       "      <td>0</td>\n",
       "      <td>0</td>\n",
       "      <td>1</td>\n",
       "      <td>0</td>\n",
       "    </tr>\n",
       "    <tr>\n",
       "      <th>4501</th>\n",
       "      <td>21:00</td>\n",
       "      <td>19</td>\n",
       "      <td>19</td>\n",
       "      <td>2</td>\n",
       "      <td>82</td>\n",
       "      <td>14.0</td>\n",
       "      <td>13</td>\n",
       "      <td>1015</td>\n",
       "      <td>Clear</td>\n",
       "      <td>Clear</td>\n",
       "      <td>0</td>\n",
       "      <td>0</td>\n",
       "      <td>1</td>\n",
       "      <td>0</td>\n",
       "    </tr>\n",
       "    <tr>\n",
       "      <th>4502</th>\n",
       "      <td>22:00</td>\n",
       "      <td>18</td>\n",
       "      <td>18</td>\n",
       "      <td>2</td>\n",
       "      <td>83</td>\n",
       "      <td>14.0</td>\n",
       "      <td>12</td>\n",
       "      <td>1015</td>\n",
       "      <td>Clear</td>\n",
       "      <td>Clear</td>\n",
       "      <td>0</td>\n",
       "      <td>0</td>\n",
       "      <td>1</td>\n",
       "      <td>0</td>\n",
       "    </tr>\n",
       "    <tr>\n",
       "      <th>4503</th>\n",
       "      <td>23:00</td>\n",
       "      <td>18</td>\n",
       "      <td>18</td>\n",
       "      <td>2</td>\n",
       "      <td>84</td>\n",
       "      <td>14.0</td>\n",
       "      <td>11</td>\n",
       "      <td>1015</td>\n",
       "      <td>Clear</td>\n",
       "      <td>Clear</td>\n",
       "      <td>0</td>\n",
       "      <td>0</td>\n",
       "      <td>1</td>\n",
       "      <td>0</td>\n",
       "    </tr>\n",
       "  </tbody>\n",
       "</table>\n",
       "<p>4504 rows × 14 columns</p>\n",
       "</div>"
      ],
      "text/plain": [
       "       Time  Temperature(C)  Feels Like(C)  Chance of Prec.(%)  Humidity(%)  \\\n",
       "0     08:00              26             31                  62           91   \n",
       "1     09:00              27             33                  66           88   \n",
       "2     10:00              27             33                  66           88   \n",
       "3     11:00              28             33                  66           88   \n",
       "4     12:00              29             36                  65           93   \n",
       "...     ...             ...            ...                 ...          ...   \n",
       "4499  19:00              20             20                   1           77   \n",
       "4500  20:00              19             19                   1           80   \n",
       "4501  21:00              19             19                   2           82   \n",
       "4502  22:00              18             18                   2           83   \n",
       "4503  23:00              18             18                   2           84   \n",
       "\n",
       "      Visibity(km)  Dew Point  Pressure(hPa) Predicted_State Real State  Rain  \\\n",
       "0              4.0         25           1003   Mostly Cloudy     Cloudy     0   \n",
       "1              4.0         25           1004   Mostly Cloudy     Cloudy     0   \n",
       "2              4.0         25           1004   Mostly Cloudy       Rain     1   \n",
       "3              4.0         25           1004   Mostly Cloudy       Rain     1   \n",
       "4              1.6         28           1005          Cloudy      Sunny     0   \n",
       "...            ...        ...            ...             ...        ...   ...   \n",
       "4499           8.0         15           1014           Clear      Clear     0   \n",
       "4500          14.0         13           1015           Clear      Clear     0   \n",
       "4501          14.0         13           1015           Clear      Clear     0   \n",
       "4502          14.0         12           1015           Clear      Clear     0   \n",
       "4503          14.0         11           1015           Clear      Clear     0   \n",
       "\n",
       "      Cloudy  Sunny  Fog  \n",
       "0          1      0    0  \n",
       "1          1      0    0  \n",
       "2          1      0    0  \n",
       "3          1      0    0  \n",
       "4          0      1    0  \n",
       "...      ...    ...  ...  \n",
       "4499       0      1    0  \n",
       "4500       0      1    0  \n",
       "4501       0      1    0  \n",
       "4502       0      1    0  \n",
       "4503       0      1    0  \n",
       "\n",
       "[4504 rows x 14 columns]"
      ]
     },
     "execution_count": 6,
     "metadata": {},
     "output_type": "execute_result"
    }
   ],
   "source": [
    "df.dropna(inplace=True)\n",
    "df"
   ]
  },
  {
   "cell_type": "code",
   "execution_count": 7,
   "id": "ff776d51-b7cc-43c8-962e-5508dc2f691c",
   "metadata": {},
   "outputs": [
    {
     "data": {
      "text/html": [
       "<div>\n",
       "<style scoped>\n",
       "    .dataframe tbody tr th:only-of-type {\n",
       "        vertical-align: middle;\n",
       "    }\n",
       "\n",
       "    .dataframe tbody tr th {\n",
       "        vertical-align: top;\n",
       "    }\n",
       "\n",
       "    .dataframe thead th {\n",
       "        text-align: right;\n",
       "    }\n",
       "</style>\n",
       "<table border=\"1\" class=\"dataframe\">\n",
       "  <thead>\n",
       "    <tr style=\"text-align: right;\">\n",
       "      <th></th>\n",
       "      <th>Temperature(C)</th>\n",
       "      <th>Feels Like(C)</th>\n",
       "      <th>Chance of Prec.(%)</th>\n",
       "      <th>Humidity(%)</th>\n",
       "      <th>Visibity(km)</th>\n",
       "      <th>Dew Point</th>\n",
       "      <th>Pressure(hPa)</th>\n",
       "      <th>Rain</th>\n",
       "      <th>Fog</th>\n",
       "    </tr>\n",
       "  </thead>\n",
       "  <tbody>\n",
       "    <tr>\n",
       "      <th>0</th>\n",
       "      <td>26</td>\n",
       "      <td>31</td>\n",
       "      <td>62</td>\n",
       "      <td>91</td>\n",
       "      <td>4.0</td>\n",
       "      <td>25</td>\n",
       "      <td>1003</td>\n",
       "      <td>0</td>\n",
       "      <td>0</td>\n",
       "    </tr>\n",
       "    <tr>\n",
       "      <th>1</th>\n",
       "      <td>27</td>\n",
       "      <td>33</td>\n",
       "      <td>66</td>\n",
       "      <td>88</td>\n",
       "      <td>4.0</td>\n",
       "      <td>25</td>\n",
       "      <td>1004</td>\n",
       "      <td>0</td>\n",
       "      <td>0</td>\n",
       "    </tr>\n",
       "    <tr>\n",
       "      <th>2</th>\n",
       "      <td>27</td>\n",
       "      <td>33</td>\n",
       "      <td>66</td>\n",
       "      <td>88</td>\n",
       "      <td>4.0</td>\n",
       "      <td>25</td>\n",
       "      <td>1004</td>\n",
       "      <td>1</td>\n",
       "      <td>0</td>\n",
       "    </tr>\n",
       "    <tr>\n",
       "      <th>3</th>\n",
       "      <td>28</td>\n",
       "      <td>33</td>\n",
       "      <td>66</td>\n",
       "      <td>88</td>\n",
       "      <td>4.0</td>\n",
       "      <td>25</td>\n",
       "      <td>1004</td>\n",
       "      <td>1</td>\n",
       "      <td>0</td>\n",
       "    </tr>\n",
       "    <tr>\n",
       "      <th>4</th>\n",
       "      <td>29</td>\n",
       "      <td>36</td>\n",
       "      <td>65</td>\n",
       "      <td>93</td>\n",
       "      <td>1.6</td>\n",
       "      <td>28</td>\n",
       "      <td>1005</td>\n",
       "      <td>0</td>\n",
       "      <td>0</td>\n",
       "    </tr>\n",
       "    <tr>\n",
       "      <th>...</th>\n",
       "      <td>...</td>\n",
       "      <td>...</td>\n",
       "      <td>...</td>\n",
       "      <td>...</td>\n",
       "      <td>...</td>\n",
       "      <td>...</td>\n",
       "      <td>...</td>\n",
       "      <td>...</td>\n",
       "      <td>...</td>\n",
       "    </tr>\n",
       "    <tr>\n",
       "      <th>4499</th>\n",
       "      <td>20</td>\n",
       "      <td>20</td>\n",
       "      <td>1</td>\n",
       "      <td>77</td>\n",
       "      <td>8.0</td>\n",
       "      <td>15</td>\n",
       "      <td>1014</td>\n",
       "      <td>0</td>\n",
       "      <td>0</td>\n",
       "    </tr>\n",
       "    <tr>\n",
       "      <th>4500</th>\n",
       "      <td>19</td>\n",
       "      <td>19</td>\n",
       "      <td>1</td>\n",
       "      <td>80</td>\n",
       "      <td>14.0</td>\n",
       "      <td>13</td>\n",
       "      <td>1015</td>\n",
       "      <td>0</td>\n",
       "      <td>0</td>\n",
       "    </tr>\n",
       "    <tr>\n",
       "      <th>4501</th>\n",
       "      <td>19</td>\n",
       "      <td>19</td>\n",
       "      <td>2</td>\n",
       "      <td>82</td>\n",
       "      <td>14.0</td>\n",
       "      <td>13</td>\n",
       "      <td>1015</td>\n",
       "      <td>0</td>\n",
       "      <td>0</td>\n",
       "    </tr>\n",
       "    <tr>\n",
       "      <th>4502</th>\n",
       "      <td>18</td>\n",
       "      <td>18</td>\n",
       "      <td>2</td>\n",
       "      <td>83</td>\n",
       "      <td>14.0</td>\n",
       "      <td>12</td>\n",
       "      <td>1015</td>\n",
       "      <td>0</td>\n",
       "      <td>0</td>\n",
       "    </tr>\n",
       "    <tr>\n",
       "      <th>4503</th>\n",
       "      <td>18</td>\n",
       "      <td>18</td>\n",
       "      <td>2</td>\n",
       "      <td>84</td>\n",
       "      <td>14.0</td>\n",
       "      <td>11</td>\n",
       "      <td>1015</td>\n",
       "      <td>0</td>\n",
       "      <td>0</td>\n",
       "    </tr>\n",
       "  </tbody>\n",
       "</table>\n",
       "<p>4504 rows × 9 columns</p>\n",
       "</div>"
      ],
      "text/plain": [
       "      Temperature(C)  Feels Like(C)  Chance of Prec.(%)  Humidity(%)  \\\n",
       "0                 26             31                  62           91   \n",
       "1                 27             33                  66           88   \n",
       "2                 27             33                  66           88   \n",
       "3                 28             33                  66           88   \n",
       "4                 29             36                  65           93   \n",
       "...              ...            ...                 ...          ...   \n",
       "4499              20             20                   1           77   \n",
       "4500              19             19                   1           80   \n",
       "4501              19             19                   2           82   \n",
       "4502              18             18                   2           83   \n",
       "4503              18             18                   2           84   \n",
       "\n",
       "      Visibity(km)  Dew Point  Pressure(hPa)  Rain  Fog  \n",
       "0              4.0         25           1003     0    0  \n",
       "1              4.0         25           1004     0    0  \n",
       "2              4.0         25           1004     1    0  \n",
       "3              4.0         25           1004     1    0  \n",
       "4              1.6         28           1005     0    0  \n",
       "...            ...        ...            ...   ...  ...  \n",
       "4499           8.0         15           1014     0    0  \n",
       "4500          14.0         13           1015     0    0  \n",
       "4501          14.0         13           1015     0    0  \n",
       "4502          14.0         12           1015     0    0  \n",
       "4503          14.0         11           1015     0    0  \n",
       "\n",
       "[4504 rows x 9 columns]"
      ]
     },
     "execution_count": 7,
     "metadata": {},
     "output_type": "execute_result"
    }
   ],
   "source": [
    "df.drop(columns=['Time', 'Predicted_State','Real State','Cloudy','Sunny'], inplace=True)\n",
    "df"
   ]
  },
  {
   "cell_type": "code",
   "execution_count": 8,
   "id": "3df5d267-14b2-403a-bcd9-172eff15b875",
   "metadata": {
    "tags": []
   },
   "outputs": [],
   "source": [
    "df.drop(columns=['Fog'], inplace=True)\n",
    "df.drop(columns=['Dew Point','Visibity(km)','Pressure(hPa)'], inplace=True)"
   ]
  },
  {
   "cell_type": "code",
   "execution_count": 9,
   "id": "84018cb7-2432-411d-bc38-accbc8839803",
   "metadata": {},
   "outputs": [],
   "source": [
    "from qiskit import *"
   ]
  },
  {
   "cell_type": "code",
   "execution_count": 10,
   "id": "3502f112-7e2e-4120-997a-ec16cbc26b08",
   "metadata": {
    "tags": []
   },
   "outputs": [
    {
     "name": "stdout",
     "output_type": "stream",
     "text": [
      "Using 3 features Price, Open, High: \n",
      "for size 50\n",
      "svm classification score: 0.46153846153846156\n"
     ]
    },
    {
     "name": "stderr",
     "output_type": "stream",
     "text": [
      "/tmp/ipykernel_1398/1918751165.py:42: QiskitMachineLearningWarning: \"'kernel' argument is not supported and will be discarded, please use 'quantum_kernel' instead.\"\n",
      "  dse_svc = QSVC(kernel=dse_feature_map)\n"
     ]
    },
    {
     "name": "stdout",
     "output_type": "stream",
     "text": [
      "qsvm classification test score: 0.6153846153846154\n",
      "for size 100\n",
      "svm classification score: 0.68\n"
     ]
    },
    {
     "name": "stderr",
     "output_type": "stream",
     "text": [
      "/tmp/ipykernel_1398/1918751165.py:42: QiskitMachineLearningWarning: \"'kernel' argument is not supported and will be discarded, please use 'quantum_kernel' instead.\"\n",
      "  dse_svc = QSVC(kernel=dse_feature_map)\n"
     ]
    },
    {
     "name": "stdout",
     "output_type": "stream",
     "text": [
      "qsvm classification test score: 0.68\n",
      "for size 150\n",
      "svm classification score: 0.6842105263157895\n"
     ]
    },
    {
     "name": "stderr",
     "output_type": "stream",
     "text": [
      "/tmp/ipykernel_1398/1918751165.py:42: QiskitMachineLearningWarning: \"'kernel' argument is not supported and will be discarded, please use 'quantum_kernel' instead.\"\n",
      "  dse_svc = QSVC(kernel=dse_feature_map)\n"
     ]
    },
    {
     "name": "stdout",
     "output_type": "stream",
     "text": [
      "qsvm classification test score: 0.6578947368421053\n",
      "for size 200\n",
      "svm classification score: 0.84\n"
     ]
    },
    {
     "name": "stderr",
     "output_type": "stream",
     "text": [
      "/tmp/ipykernel_1398/1918751165.py:42: QiskitMachineLearningWarning: \"'kernel' argument is not supported and will be discarded, please use 'quantum_kernel' instead.\"\n",
      "  dse_svc = QSVC(kernel=dse_feature_map)\n"
     ]
    },
    {
     "name": "stdout",
     "output_type": "stream",
     "text": [
      "qsvm classification test score: 0.82\n",
      "for size 250\n",
      "svm classification score: 0.7619047619047619\n"
     ]
    },
    {
     "name": "stderr",
     "output_type": "stream",
     "text": [
      "/tmp/ipykernel_1398/1918751165.py:42: QiskitMachineLearningWarning: \"'kernel' argument is not supported and will be discarded, please use 'quantum_kernel' instead.\"\n",
      "  dse_svc = QSVC(kernel=dse_feature_map)\n"
     ]
    },
    {
     "name": "stdout",
     "output_type": "stream",
     "text": [
      "qsvm classification test score: 0.746031746031746\n"
     ]
    }
   ],
   "source": [
    "print(\"Using 3 features Price, Open, High: \")\n",
    "sz = []\n",
    "svm_acc = []\n",
    "qsvm_acc = []\n",
    "for data_size in range(50, 300, 50):\n",
    "    print(\"for size\", data_size)\n",
    "    sz.append(data_size)\n",
    "    x = df.iloc[:data_size, 0:-1]\n",
    "    y = df.iloc[:data_size, -1]\n",
    "    # spltting the dataset into train and test set\n",
    "    from sklearn.model_selection import train_test_split\n",
    "    x_train, x_test, y_train, y_test = train_test_split(x, y, test_size = 0.25, random_state = 31)\n",
    "    from sklearn import svm\n",
    "    svc_clf = svm.SVC(random_state = 7)\n",
    "    svc_clf.fit(x_train, y_train)\n",
    "    svc_score = svc_clf.score(x_test, y_test)\n",
    "    print(f\"svm classification score: {svc_score}\")\n",
    "    svm_acc.append(svc_score)\n",
    "    import qiskit\n",
    "    import matplotlib.pyplot as plt\n",
    "    import numpy as np\n",
    "\n",
    "    from sklearn.svm import SVC\n",
    "    from sklearn.cluster import SpectralClustering\n",
    "    from sklearn.metrics import normalized_mutual_info_score\n",
    "\n",
    "    #from qiskit import BasicAer\n",
    "    from qiskit.circuit.library import ZZFeatureMap\n",
    "    #from qiskit.utils import QuantumInstance, algorithm_globals\n",
    "    from qiskit_machine_learning.algorithms import QSVC\n",
    "    #from qiskit_machine_learning.kernels import QuantumKernel\n",
    "    #from qiskit_machine_learning.datasets import ad_hoc_data\n",
    "\n",
    "    seed = 12345\n",
    "    #algorithm_globals.random_seed = seed\n",
    "    # Building Kernel\n",
    "    dse_feature_map = ZZFeatureMap(feature_dimension=4, reps=2, entanglement=\"linear\")\n",
    "\n",
    "    \n",
    "\n",
    "    #dse_kernel = QuantumKernel(feature_map=dse_feature_map)\n",
    "    dse_svc = QSVC(kernel=dse_feature_map)\n",
    "    dse_svc.fit(x_train, y_train)\n",
    "    dse_score = dse_svc.score(x_test, y_test)\n",
    "\n",
    "    print(f\"qsvm classification test score: {dse_score}\")\n",
    "    qsvm_acc.append(dse_score)"
   ]
  },
  {
   "cell_type": "code",
   "execution_count": 11,
   "id": "841cc3c2-276d-4c5b-982e-d9be6fd5f7ce",
   "metadata": {},
   "outputs": [
    {
     "data": {
      "text/html": [
       "<div>\n",
       "<style scoped>\n",
       "    .dataframe tbody tr th:only-of-type {\n",
       "        vertical-align: middle;\n",
       "    }\n",
       "\n",
       "    .dataframe tbody tr th {\n",
       "        vertical-align: top;\n",
       "    }\n",
       "\n",
       "    .dataframe thead th {\n",
       "        text-align: right;\n",
       "    }\n",
       "</style>\n",
       "<table border=\"1\" class=\"dataframe\">\n",
       "  <thead>\n",
       "    <tr style=\"text-align: right;\">\n",
       "      <th></th>\n",
       "      <th>Temperature(C)</th>\n",
       "      <th>Feels Like(C)</th>\n",
       "      <th>Chance of Prec.(%)</th>\n",
       "      <th>Humidity(%)</th>\n",
       "    </tr>\n",
       "  </thead>\n",
       "  <tbody>\n",
       "    <tr>\n",
       "      <th>0</th>\n",
       "      <td>26</td>\n",
       "      <td>31</td>\n",
       "      <td>62</td>\n",
       "      <td>91</td>\n",
       "    </tr>\n",
       "    <tr>\n",
       "      <th>1</th>\n",
       "      <td>27</td>\n",
       "      <td>33</td>\n",
       "      <td>66</td>\n",
       "      <td>88</td>\n",
       "    </tr>\n",
       "    <tr>\n",
       "      <th>2</th>\n",
       "      <td>27</td>\n",
       "      <td>33</td>\n",
       "      <td>66</td>\n",
       "      <td>88</td>\n",
       "    </tr>\n",
       "    <tr>\n",
       "      <th>3</th>\n",
       "      <td>28</td>\n",
       "      <td>33</td>\n",
       "      <td>66</td>\n",
       "      <td>88</td>\n",
       "    </tr>\n",
       "    <tr>\n",
       "      <th>4</th>\n",
       "      <td>29</td>\n",
       "      <td>36</td>\n",
       "      <td>65</td>\n",
       "      <td>93</td>\n",
       "    </tr>\n",
       "    <tr>\n",
       "      <th>...</th>\n",
       "      <td>...</td>\n",
       "      <td>...</td>\n",
       "      <td>...</td>\n",
       "      <td>...</td>\n",
       "    </tr>\n",
       "    <tr>\n",
       "      <th>245</th>\n",
       "      <td>30</td>\n",
       "      <td>36</td>\n",
       "      <td>30</td>\n",
       "      <td>73</td>\n",
       "    </tr>\n",
       "    <tr>\n",
       "      <th>246</th>\n",
       "      <td>31</td>\n",
       "      <td>38</td>\n",
       "      <td>59</td>\n",
       "      <td>71</td>\n",
       "    </tr>\n",
       "    <tr>\n",
       "      <th>247</th>\n",
       "      <td>31</td>\n",
       "      <td>37</td>\n",
       "      <td>20</td>\n",
       "      <td>74</td>\n",
       "    </tr>\n",
       "    <tr>\n",
       "      <th>248</th>\n",
       "      <td>31</td>\n",
       "      <td>37</td>\n",
       "      <td>2</td>\n",
       "      <td>75</td>\n",
       "    </tr>\n",
       "    <tr>\n",
       "      <th>249</th>\n",
       "      <td>31</td>\n",
       "      <td>37</td>\n",
       "      <td>3</td>\n",
       "      <td>74</td>\n",
       "    </tr>\n",
       "  </tbody>\n",
       "</table>\n",
       "<p>250 rows × 4 columns</p>\n",
       "</div>"
      ],
      "text/plain": [
       "     Temperature(C)  Feels Like(C)  Chance of Prec.(%)  Humidity(%)\n",
       "0                26             31                  62           91\n",
       "1                27             33                  66           88\n",
       "2                27             33                  66           88\n",
       "3                28             33                  66           88\n",
       "4                29             36                  65           93\n",
       "..              ...            ...                 ...          ...\n",
       "245              30             36                  30           73\n",
       "246              31             38                  59           71\n",
       "247              31             37                  20           74\n",
       "248              31             37                   2           75\n",
       "249              31             37                   3           74\n",
       "\n",
       "[250 rows x 4 columns]"
      ]
     },
     "execution_count": 11,
     "metadata": {},
     "output_type": "execute_result"
    }
   ],
   "source": [
    "x"
   ]
  },
  {
   "cell_type": "code",
   "execution_count": 12,
   "id": "0d64e827-9448-4f8f-bb4b-0c5d24511101",
   "metadata": {
    "tags": []
   },
   "outputs": [
    {
     "data": {
      "text/plain": [
       "0      0\n",
       "1      0\n",
       "2      1\n",
       "3      1\n",
       "4      0\n",
       "      ..\n",
       "245    1\n",
       "246    0\n",
       "247    0\n",
       "248    0\n",
       "249    0\n",
       "Name: Rain, Length: 250, dtype: int64"
      ]
     },
     "execution_count": 12,
     "metadata": {},
     "output_type": "execute_result"
    }
   ],
   "source": [
    "y"
   ]
  },
  {
   "cell_type": "code",
   "execution_count": 13,
   "id": "86a25898-6cf9-4075-a105-e361127862f1",
   "metadata": {},
   "outputs": [
    {
     "name": "stdout",
     "output_type": "stream",
     "text": [
      "[0.46153846153846156, 0.68, 0.6842105263157895, 0.84, 0.7619047619047619]\n",
      "[0.6153846153846154, 0.68, 0.6578947368421053, 0.82, 0.746031746031746]\n"
     ]
    }
   ],
   "source": [
    "print(svm_acc)\n",
    "print(qsvm_acc)"
   ]
  },
  {
   "cell_type": "code",
   "execution_count": 14,
   "id": "061734ee-8313-41d0-a470-5a9e82d33cfe",
   "metadata": {},
   "outputs": [
    {
     "name": "stdout",
     "output_type": "stream",
     "text": [
      "current iteration:  1\n",
      "for size 50\n",
      "svm classification score: 1.0\n"
     ]
    },
    {
     "name": "stderr",
     "output_type": "stream",
     "text": [
      "/tmp/ipykernel_1398/814570115.py:45: QiskitMachineLearningWarning: \"'kernel' argument is not supported and will be discarded, please use 'quantum_kernel' instead.\"\n",
      "  dse_svc = QSVC(kernel=dse_feature_map)\n"
     ]
    },
    {
     "name": "stdout",
     "output_type": "stream",
     "text": [
      "qsvm classification test score: 1.0\n",
      "for size 100\n",
      "svm classification score: 0.88\n"
     ]
    },
    {
     "name": "stderr",
     "output_type": "stream",
     "text": [
      "/tmp/ipykernel_1398/814570115.py:45: QiskitMachineLearningWarning: \"'kernel' argument is not supported and will be discarded, please use 'quantum_kernel' instead.\"\n",
      "  dse_svc = QSVC(kernel=dse_feature_map)\n"
     ]
    },
    {
     "name": "stdout",
     "output_type": "stream",
     "text": [
      "qsvm classification test score: 0.88\n",
      "for size 150\n",
      "svm classification score: 0.7894736842105263\n"
     ]
    },
    {
     "name": "stderr",
     "output_type": "stream",
     "text": [
      "/tmp/ipykernel_1398/814570115.py:45: QiskitMachineLearningWarning: \"'kernel' argument is not supported and will be discarded, please use 'quantum_kernel' instead.\"\n",
      "  dse_svc = QSVC(kernel=dse_feature_map)\n"
     ]
    },
    {
     "name": "stdout",
     "output_type": "stream",
     "text": [
      "qsvm classification test score: 0.7894736842105263\n",
      "for size 200\n",
      "svm classification score: 0.72\n"
     ]
    },
    {
     "name": "stderr",
     "output_type": "stream",
     "text": [
      "/tmp/ipykernel_1398/814570115.py:45: QiskitMachineLearningWarning: \"'kernel' argument is not supported and will be discarded, please use 'quantum_kernel' instead.\"\n",
      "  dse_svc = QSVC(kernel=dse_feature_map)\n"
     ]
    },
    {
     "name": "stdout",
     "output_type": "stream",
     "text": [
      "qsvm classification test score: 0.72\n",
      "for size 250\n",
      "svm classification score: 0.7301587301587301\n"
     ]
    },
    {
     "name": "stderr",
     "output_type": "stream",
     "text": [
      "/tmp/ipykernel_1398/814570115.py:45: QiskitMachineLearningWarning: \"'kernel' argument is not supported and will be discarded, please use 'quantum_kernel' instead.\"\n",
      "  dse_svc = QSVC(kernel=dse_feature_map)\n"
     ]
    },
    {
     "name": "stdout",
     "output_type": "stream",
     "text": [
      "qsvm classification test score: 0.7301587301587301\n",
      "=============================================\n",
      "current iteration:  2\n",
      "for size 50\n",
      "svm classification score: 0.7692307692307693\n"
     ]
    },
    {
     "name": "stderr",
     "output_type": "stream",
     "text": [
      "/tmp/ipykernel_1398/814570115.py:45: QiskitMachineLearningWarning: \"'kernel' argument is not supported and will be discarded, please use 'quantum_kernel' instead.\"\n",
      "  dse_svc = QSVC(kernel=dse_feature_map)\n"
     ]
    },
    {
     "name": "stdout",
     "output_type": "stream",
     "text": [
      "qsvm classification test score: 0.6923076923076923\n",
      "for size 100\n",
      "svm classification score: 0.92\n"
     ]
    },
    {
     "name": "stderr",
     "output_type": "stream",
     "text": [
      "/tmp/ipykernel_1398/814570115.py:45: QiskitMachineLearningWarning: \"'kernel' argument is not supported and will be discarded, please use 'quantum_kernel' instead.\"\n",
      "  dse_svc = QSVC(kernel=dse_feature_map)\n"
     ]
    },
    {
     "name": "stdout",
     "output_type": "stream",
     "text": [
      "qsvm classification test score: 0.92\n",
      "for size 150\n",
      "svm classification score: 0.6842105263157895\n"
     ]
    },
    {
     "name": "stderr",
     "output_type": "stream",
     "text": [
      "/tmp/ipykernel_1398/814570115.py:45: QiskitMachineLearningWarning: \"'kernel' argument is not supported and will be discarded, please use 'quantum_kernel' instead.\"\n",
      "  dse_svc = QSVC(kernel=dse_feature_map)\n"
     ]
    },
    {
     "name": "stdout",
     "output_type": "stream",
     "text": [
      "qsvm classification test score: 0.7105263157894737\n",
      "for size 200\n",
      "svm classification score: 0.78\n"
     ]
    },
    {
     "name": "stderr",
     "output_type": "stream",
     "text": [
      "/tmp/ipykernel_1398/814570115.py:45: QiskitMachineLearningWarning: \"'kernel' argument is not supported and will be discarded, please use 'quantum_kernel' instead.\"\n",
      "  dse_svc = QSVC(kernel=dse_feature_map)\n"
     ]
    },
    {
     "name": "stdout",
     "output_type": "stream",
     "text": [
      "qsvm classification test score: 0.78\n",
      "for size 250\n",
      "svm classification score: 0.7619047619047619\n"
     ]
    },
    {
     "name": "stderr",
     "output_type": "stream",
     "text": [
      "/tmp/ipykernel_1398/814570115.py:45: QiskitMachineLearningWarning: \"'kernel' argument is not supported and will be discarded, please use 'quantum_kernel' instead.\"\n",
      "  dse_svc = QSVC(kernel=dse_feature_map)\n"
     ]
    },
    {
     "name": "stdout",
     "output_type": "stream",
     "text": [
      "qsvm classification test score: 0.746031746031746\n",
      "=============================================\n",
      "current iteration:  3\n",
      "for size 50\n",
      "svm classification score: 0.6923076923076923\n"
     ]
    },
    {
     "name": "stderr",
     "output_type": "stream",
     "text": [
      "/tmp/ipykernel_1398/814570115.py:45: QiskitMachineLearningWarning: \"'kernel' argument is not supported and will be discarded, please use 'quantum_kernel' instead.\"\n",
      "  dse_svc = QSVC(kernel=dse_feature_map)\n"
     ]
    },
    {
     "name": "stdout",
     "output_type": "stream",
     "text": [
      "qsvm classification test score: 0.6923076923076923\n",
      "for size 100\n",
      "svm classification score: 0.88\n"
     ]
    },
    {
     "name": "stderr",
     "output_type": "stream",
     "text": [
      "/tmp/ipykernel_1398/814570115.py:45: QiskitMachineLearningWarning: \"'kernel' argument is not supported and will be discarded, please use 'quantum_kernel' instead.\"\n",
      "  dse_svc = QSVC(kernel=dse_feature_map)\n"
     ]
    },
    {
     "name": "stdout",
     "output_type": "stream",
     "text": [
      "qsvm classification test score: 0.88\n",
      "for size 150\n",
      "svm classification score: 0.868421052631579\n"
     ]
    },
    {
     "name": "stderr",
     "output_type": "stream",
     "text": [
      "/tmp/ipykernel_1398/814570115.py:45: QiskitMachineLearningWarning: \"'kernel' argument is not supported and will be discarded, please use 'quantum_kernel' instead.\"\n",
      "  dse_svc = QSVC(kernel=dse_feature_map)\n"
     ]
    },
    {
     "name": "stdout",
     "output_type": "stream",
     "text": [
      "qsvm classification test score: 0.868421052631579\n",
      "for size 200\n",
      "svm classification score: 0.68\n"
     ]
    },
    {
     "name": "stderr",
     "output_type": "stream",
     "text": [
      "/tmp/ipykernel_1398/814570115.py:45: QiskitMachineLearningWarning: \"'kernel' argument is not supported and will be discarded, please use 'quantum_kernel' instead.\"\n",
      "  dse_svc = QSVC(kernel=dse_feature_map)\n"
     ]
    },
    {
     "name": "stdout",
     "output_type": "stream",
     "text": [
      "qsvm classification test score: 0.68\n",
      "for size 250\n",
      "svm classification score: 0.6666666666666666\n"
     ]
    },
    {
     "name": "stderr",
     "output_type": "stream",
     "text": [
      "/tmp/ipykernel_1398/814570115.py:45: QiskitMachineLearningWarning: \"'kernel' argument is not supported and will be discarded, please use 'quantum_kernel' instead.\"\n",
      "  dse_svc = QSVC(kernel=dse_feature_map)\n"
     ]
    },
    {
     "name": "stdout",
     "output_type": "stream",
     "text": [
      "qsvm classification test score: 0.6666666666666666\n",
      "=============================================\n",
      "current iteration:  4\n",
      "for size 50\n",
      "svm classification score: 0.7692307692307693\n"
     ]
    },
    {
     "name": "stderr",
     "output_type": "stream",
     "text": [
      "/tmp/ipykernel_1398/814570115.py:45: QiskitMachineLearningWarning: \"'kernel' argument is not supported and will be discarded, please use 'quantum_kernel' instead.\"\n",
      "  dse_svc = QSVC(kernel=dse_feature_map)\n"
     ]
    },
    {
     "name": "stdout",
     "output_type": "stream",
     "text": [
      "qsvm classification test score: 0.7692307692307693\n",
      "for size 100\n",
      "svm classification score: 0.72\n"
     ]
    },
    {
     "name": "stderr",
     "output_type": "stream",
     "text": [
      "/tmp/ipykernel_1398/814570115.py:45: QiskitMachineLearningWarning: \"'kernel' argument is not supported and will be discarded, please use 'quantum_kernel' instead.\"\n",
      "  dse_svc = QSVC(kernel=dse_feature_map)\n"
     ]
    },
    {
     "name": "stdout",
     "output_type": "stream",
     "text": [
      "qsvm classification test score: 0.72\n",
      "for size 150\n",
      "svm classification score: 0.8157894736842105\n"
     ]
    },
    {
     "name": "stderr",
     "output_type": "stream",
     "text": [
      "/tmp/ipykernel_1398/814570115.py:45: QiskitMachineLearningWarning: \"'kernel' argument is not supported and will be discarded, please use 'quantum_kernel' instead.\"\n",
      "  dse_svc = QSVC(kernel=dse_feature_map)\n"
     ]
    },
    {
     "name": "stdout",
     "output_type": "stream",
     "text": [
      "qsvm classification test score: 0.8157894736842105\n",
      "for size 200\n",
      "svm classification score: 0.8\n"
     ]
    },
    {
     "name": "stderr",
     "output_type": "stream",
     "text": [
      "/tmp/ipykernel_1398/814570115.py:45: QiskitMachineLearningWarning: \"'kernel' argument is not supported and will be discarded, please use 'quantum_kernel' instead.\"\n",
      "  dse_svc = QSVC(kernel=dse_feature_map)\n"
     ]
    },
    {
     "name": "stdout",
     "output_type": "stream",
     "text": [
      "qsvm classification test score: 0.8\n",
      "for size 250\n",
      "svm classification score: 0.7301587301587301\n"
     ]
    },
    {
     "name": "stderr",
     "output_type": "stream",
     "text": [
      "/tmp/ipykernel_1398/814570115.py:45: QiskitMachineLearningWarning: \"'kernel' argument is not supported and will be discarded, please use 'quantum_kernel' instead.\"\n",
      "  dse_svc = QSVC(kernel=dse_feature_map)\n"
     ]
    },
    {
     "name": "stdout",
     "output_type": "stream",
     "text": [
      "qsvm classification test score: 0.7301587301587301\n",
      "=============================================\n",
      "current iteration:  5\n",
      "for size 50\n",
      "svm classification score: 0.6923076923076923\n"
     ]
    },
    {
     "name": "stderr",
     "output_type": "stream",
     "text": [
      "/tmp/ipykernel_1398/814570115.py:45: QiskitMachineLearningWarning: \"'kernel' argument is not supported and will be discarded, please use 'quantum_kernel' instead.\"\n",
      "  dse_svc = QSVC(kernel=dse_feature_map)\n"
     ]
    },
    {
     "name": "stdout",
     "output_type": "stream",
     "text": [
      "qsvm classification test score: 0.6923076923076923\n",
      "for size 100\n",
      "svm classification score: 0.92\n"
     ]
    },
    {
     "name": "stderr",
     "output_type": "stream",
     "text": [
      "/tmp/ipykernel_1398/814570115.py:45: QiskitMachineLearningWarning: \"'kernel' argument is not supported and will be discarded, please use 'quantum_kernel' instead.\"\n",
      "  dse_svc = QSVC(kernel=dse_feature_map)\n"
     ]
    },
    {
     "name": "stdout",
     "output_type": "stream",
     "text": [
      "qsvm classification test score: 0.92\n",
      "for size 150\n",
      "svm classification score: 0.8157894736842105\n"
     ]
    },
    {
     "name": "stderr",
     "output_type": "stream",
     "text": [
      "/tmp/ipykernel_1398/814570115.py:45: QiskitMachineLearningWarning: \"'kernel' argument is not supported and will be discarded, please use 'quantum_kernel' instead.\"\n",
      "  dse_svc = QSVC(kernel=dse_feature_map)\n"
     ]
    },
    {
     "name": "stdout",
     "output_type": "stream",
     "text": [
      "qsvm classification test score: 0.8157894736842105\n",
      "for size 200\n",
      "svm classification score: 0.84\n"
     ]
    },
    {
     "name": "stderr",
     "output_type": "stream",
     "text": [
      "/tmp/ipykernel_1398/814570115.py:45: QiskitMachineLearningWarning: \"'kernel' argument is not supported and will be discarded, please use 'quantum_kernel' instead.\"\n",
      "  dse_svc = QSVC(kernel=dse_feature_map)\n"
     ]
    },
    {
     "name": "stdout",
     "output_type": "stream",
     "text": [
      "qsvm classification test score: 0.84\n",
      "for size 250\n",
      "svm classification score: 0.6984126984126984\n"
     ]
    },
    {
     "name": "stderr",
     "output_type": "stream",
     "text": [
      "/tmp/ipykernel_1398/814570115.py:45: QiskitMachineLearningWarning: \"'kernel' argument is not supported and will be discarded, please use 'quantum_kernel' instead.\"\n",
      "  dse_svc = QSVC(kernel=dse_feature_map)\n"
     ]
    },
    {
     "name": "stdout",
     "output_type": "stream",
     "text": [
      "qsvm classification test score: 0.7142857142857143\n",
      "=============================================\n"
     ]
    }
   ],
   "source": [
    "\n",
    "sz = [50,100,150,200,250]\n",
    "\n",
    "import random\n",
    "total = 5\n",
    "for cnt in range(total):\n",
    "    print(\"current iteration: \", cnt+1)\n",
    "    for idx in range(len(sz)):\n",
    "        data_size = sz[idx]\n",
    "        print(\"for size\", data_size)\n",
    "        st = random.randint(0, 300-data_size)\n",
    "        x = df.iloc[st:st+data_size, 0:-1]\n",
    "        y = df.iloc[st:st+data_size, -1]\n",
    "        # spltting the dataset into train and test set\n",
    "        from sklearn.model_selection import train_test_split\n",
    "        x_train, x_test, y_train, y_test = train_test_split(x, y, test_size = 0.25, random_state = 31)\n",
    "        from sklearn import svm\n",
    "        svc_clf = svm.SVC(random_state = 7)\n",
    "        svc_clf.fit(x_train, y_train)\n",
    "        svc_score = svc_clf.score(x_test, y_test)\n",
    "        print(f\"svm classification score: {svc_score}\")\n",
    "        svm_acc[idx] = svm_acc[idx] + svc_score\n",
    "        import qiskit\n",
    "        import matplotlib.pyplot as plt\n",
    "        import numpy as np\n",
    "\n",
    "        from sklearn.svm import SVC\n",
    "        from sklearn.cluster import SpectralClustering\n",
    "        from sklearn.metrics import normalized_mutual_info_score\n",
    "\n",
    "        #from qiskit import BasicAer\n",
    "        from qiskit.circuit.library import ZZFeatureMap\n",
    "        #from qiskit.utils import QuantumInstance, algorithm_globals\n",
    "        from qiskit_machine_learning.algorithms import QSVC\n",
    "        #from qiskit_machine_learning.kernels import QuantumKernel\n",
    "        #from qiskit_machine_learning.datasets import ad_hoc_data\n",
    "\n",
    "        seed = 12345\n",
    "        #algorithm_globals.random_seed = seed\n",
    "        # Building Kernel\n",
    "        dse_feature_map = ZZFeatureMap(feature_dimension=4, reps=2, entanglement=\"linear\")\n",
    "\n",
    "\n",
    "\n",
    "        #dse_kernel = QuantumKernel(feature_map=dse_feature_map)\n",
    "        dse_svc = QSVC(kernel=dse_feature_map)\n",
    "        dse_svc.fit(x_train, y_train)\n",
    "        dse_score = dse_svc.score(x_test, y_test)\n",
    "\n",
    "        print(f\"qsvm classification test score: {dse_score}\")\n",
    "    #qsvm_acc.append(dse_score)\n",
    "        \n",
    "        qsvm_acc[idx] = qsvm_acc[idx] + dse_score\n",
    "    print(\"=============================================\")"
   ]
  },
  {
   "cell_type": "code",
   "execution_count": 15,
   "id": "d97bf16c-24c3-4d72-b09c-f5e3b6fd652f",
   "metadata": {},
   "outputs": [
    {
     "name": "stdout",
     "output_type": "stream",
     "text": [
      "[4.384615384615385, 5.0, 4.657894736842105, 4.66, 4.349206349206349] [4.461538461538462, 5.0, 4.657894736842105, 4.640000000000001, 4.333333333333333]\n"
     ]
    }
   ],
   "source": [
    "print(svm_acc, qsvm_acc)"
   ]
  },
  {
   "cell_type": "code",
   "execution_count": 16,
   "id": "987e306e-a1ad-4b79-a97b-01001b5ad75e",
   "metadata": {
    "tags": []
   },
   "outputs": [
    {
     "name": "stdout",
     "output_type": "stream",
     "text": [
      "0 0.7307692307692308 \t\t 0.7435897435897436\n",
      "1 0.8333333333333334 \t\t 0.8333333333333334\n",
      "2 0.7763157894736842 \t\t 0.7763157894736842\n",
      "3 0.7766666666666667 \t\t 0.7733333333333334\n",
      "4 0.7248677248677248 \t\t 0.7222222222222222\n"
     ]
    }
   ],
   "source": [
    "for idx in range(len(sz)):\n",
    "    print(idx, svm_acc[idx]/6, '\\t\\t', qsvm_acc[idx]/6)"
   ]
  },
  {
   "cell_type": "code",
   "execution_count": null,
   "id": "a7dcf1d0-ffb6-49b3-a85a-586ffba45f0c",
   "metadata": {},
   "outputs": [],
   "source": []
  }
 ],
 "metadata": {
  "kernelspec": {
   "display_name": "Qiskit v1.0.1 (ipykernel)",
   "language": "python",
   "name": "python3"
  },
  "language_info": {
   "codemirror_mode": {
    "name": "ipython",
    "version": 3
   },
   "file_extension": ".py",
   "mimetype": "text/x-python",
   "name": "python",
   "nbconvert_exporter": "python",
   "pygments_lexer": "ipython3",
   "version": "3.10.8"
  },
  "widgets": {
   "application/vnd.jupyter.widget-state+json": {
    "state": {},
    "version_major": 2,
    "version_minor": 0
   }
  }
 },
 "nbformat": 4,
 "nbformat_minor": 5
}
